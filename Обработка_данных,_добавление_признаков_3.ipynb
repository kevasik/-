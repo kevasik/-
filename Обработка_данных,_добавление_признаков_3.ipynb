{
  "nbformat": 4,
  "nbformat_minor": 0,
  "metadata": {
    "colab": {
      "provenance": []
    },
    "kernelspec": {
      "name": "python3",
      "display_name": "Python 3"
    },
    "language_info": {
      "name": "python"
    }
  },
  "cells": [
    {
      "cell_type": "code",
      "source": [
        "!pip install fake_useragent\n",
        "from bs4 import BeautifulSoup\n",
        "from bs4.element import Tag\n",
        "import requests\n",
        "import time\n",
        "from fake_useragent import UserAgent\n",
        "import pandas as pd\n",
        "import numpy as np\n",
        "import matplotlib.pyplot as plt\n",
        "import seaborn as sns\n",
        "from sklearn.linear_model import LinearRegression\n",
        "from sklearn.metrics import mean_squared_error\n",
        "from sklearn.model_selection import train_test_split\n",
        "from sklearn import linear_model\n",
        "from sklearn.linear_model import Ridge\n",
        "from sklearn.metrics import r2_score\n",
        "from sklearn.metrics import mean_absolute_error"
      ],
      "metadata": {
        "colab": {
          "base_uri": "https://localhost:8080/"
        },
        "id": "q-Zyp7F_VAkb",
        "outputId": "f8ec534d-0b6f-4808-b981-393de3151362"
      },
      "execution_count": 4,
      "outputs": [
        {
          "output_type": "stream",
          "name": "stdout",
          "text": [
            "Requirement already satisfied: fake_useragent in /usr/local/lib/python3.10/dist-packages (1.5.1)\n"
          ]
        }
      ]
    },
    {
      "cell_type": "code",
      "execution_count": 5,
      "metadata": {
        "colab": {
          "base_uri": "https://localhost:8080/",
          "height": 179
        },
        "id": "Lwm2zTwDUwZP",
        "outputId": "04d5509d-a778-41f3-8c8e-1a72405f6c0d"
      },
      "outputs": [
        {
          "output_type": "execute_result",
          "data": {
            "text/plain": [
              "   Личность подтверждена                  Статус Стаж  На сайте  \\\n",
              "0                  False   Частный преподаватель    7       6.0   \n",
              "1                   True  Школьный преподаватель   38       6.0   \n",
              "\n",
              "   Заказы в работе  Оценка  Количество отзывов Формат обучения  \\\n",
              "0            107.0    5.00                51.0    Дистанционно   \n",
              "1            139.0    4.89                41.0    Дистанционно   \n",
              "\n",
              "                                         Образование       Предмет    Цена  \\\n",
              "0                            МГУ им. М.В. Ломоносова  Русский язык  2112.5   \n",
              "1  Волгоградский государственный педагогический  ...  Русский язык  1000.0   \n",
              "\n",
              "   С отличием  \n",
              "0       False  \n",
              "1       False  "
            ],
            "text/html": [
              "\n",
              "  <div id=\"df-6b9c682d-8bde-4dd0-88b7-24f567ff461c\" class=\"colab-df-container\">\n",
              "    <div>\n",
              "<style scoped>\n",
              "    .dataframe tbody tr th:only-of-type {\n",
              "        vertical-align: middle;\n",
              "    }\n",
              "\n",
              "    .dataframe tbody tr th {\n",
              "        vertical-align: top;\n",
              "    }\n",
              "\n",
              "    .dataframe thead th {\n",
              "        text-align: right;\n",
              "    }\n",
              "</style>\n",
              "<table border=\"1\" class=\"dataframe\">\n",
              "  <thead>\n",
              "    <tr style=\"text-align: right;\">\n",
              "      <th></th>\n",
              "      <th>Личность подтверждена</th>\n",
              "      <th>Статус</th>\n",
              "      <th>Стаж</th>\n",
              "      <th>На сайте</th>\n",
              "      <th>Заказы в работе</th>\n",
              "      <th>Оценка</th>\n",
              "      <th>Количество отзывов</th>\n",
              "      <th>Формат обучения</th>\n",
              "      <th>Образование</th>\n",
              "      <th>Предмет</th>\n",
              "      <th>Цена</th>\n",
              "      <th>С отличием</th>\n",
              "    </tr>\n",
              "  </thead>\n",
              "  <tbody>\n",
              "    <tr>\n",
              "      <th>0</th>\n",
              "      <td>False</td>\n",
              "      <td>Частный преподаватель</td>\n",
              "      <td>7</td>\n",
              "      <td>6.0</td>\n",
              "      <td>107.0</td>\n",
              "      <td>5.00</td>\n",
              "      <td>51.0</td>\n",
              "      <td>Дистанционно</td>\n",
              "      <td>МГУ им. М.В. Ломоносова</td>\n",
              "      <td>Русский язык</td>\n",
              "      <td>2112.5</td>\n",
              "      <td>False</td>\n",
              "    </tr>\n",
              "    <tr>\n",
              "      <th>1</th>\n",
              "      <td>True</td>\n",
              "      <td>Школьный преподаватель</td>\n",
              "      <td>38</td>\n",
              "      <td>6.0</td>\n",
              "      <td>139.0</td>\n",
              "      <td>4.89</td>\n",
              "      <td>41.0</td>\n",
              "      <td>Дистанционно</td>\n",
              "      <td>Волгоградский государственный педагогический  ...</td>\n",
              "      <td>Русский язык</td>\n",
              "      <td>1000.0</td>\n",
              "      <td>False</td>\n",
              "    </tr>\n",
              "  </tbody>\n",
              "</table>\n",
              "</div>\n",
              "    <div class=\"colab-df-buttons\">\n",
              "\n",
              "  <div class=\"colab-df-container\">\n",
              "    <button class=\"colab-df-convert\" onclick=\"convertToInteractive('df-6b9c682d-8bde-4dd0-88b7-24f567ff461c')\"\n",
              "            title=\"Convert this dataframe to an interactive table.\"\n",
              "            style=\"display:none;\">\n",
              "\n",
              "  <svg xmlns=\"http://www.w3.org/2000/svg\" height=\"24px\" viewBox=\"0 -960 960 960\">\n",
              "    <path d=\"M120-120v-720h720v720H120Zm60-500h600v-160H180v160Zm220 220h160v-160H400v160Zm0 220h160v-160H400v160ZM180-400h160v-160H180v160Zm440 0h160v-160H620v160ZM180-180h160v-160H180v160Zm440 0h160v-160H620v160Z\"/>\n",
              "  </svg>\n",
              "    </button>\n",
              "\n",
              "  <style>\n",
              "    .colab-df-container {\n",
              "      display:flex;\n",
              "      gap: 12px;\n",
              "    }\n",
              "\n",
              "    .colab-df-convert {\n",
              "      background-color: #E8F0FE;\n",
              "      border: none;\n",
              "      border-radius: 50%;\n",
              "      cursor: pointer;\n",
              "      display: none;\n",
              "      fill: #1967D2;\n",
              "      height: 32px;\n",
              "      padding: 0 0 0 0;\n",
              "      width: 32px;\n",
              "    }\n",
              "\n",
              "    .colab-df-convert:hover {\n",
              "      background-color: #E2EBFA;\n",
              "      box-shadow: 0px 1px 2px rgba(60, 64, 67, 0.3), 0px 1px 3px 1px rgba(60, 64, 67, 0.15);\n",
              "      fill: #174EA6;\n",
              "    }\n",
              "\n",
              "    .colab-df-buttons div {\n",
              "      margin-bottom: 4px;\n",
              "    }\n",
              "\n",
              "    [theme=dark] .colab-df-convert {\n",
              "      background-color: #3B4455;\n",
              "      fill: #D2E3FC;\n",
              "    }\n",
              "\n",
              "    [theme=dark] .colab-df-convert:hover {\n",
              "      background-color: #434B5C;\n",
              "      box-shadow: 0px 1px 3px 1px rgba(0, 0, 0, 0.15);\n",
              "      filter: drop-shadow(0px 1px 2px rgba(0, 0, 0, 0.3));\n",
              "      fill: #FFFFFF;\n",
              "    }\n",
              "  </style>\n",
              "\n",
              "    <script>\n",
              "      const buttonEl =\n",
              "        document.querySelector('#df-6b9c682d-8bde-4dd0-88b7-24f567ff461c button.colab-df-convert');\n",
              "      buttonEl.style.display =\n",
              "        google.colab.kernel.accessAllowed ? 'block' : 'none';\n",
              "\n",
              "      async function convertToInteractive(key) {\n",
              "        const element = document.querySelector('#df-6b9c682d-8bde-4dd0-88b7-24f567ff461c');\n",
              "        const dataTable =\n",
              "          await google.colab.kernel.invokeFunction('convertToInteractive',\n",
              "                                                    [key], {});\n",
              "        if (!dataTable) return;\n",
              "\n",
              "        const docLinkHtml = 'Like what you see? Visit the ' +\n",
              "          '<a target=\"_blank\" href=https://colab.research.google.com/notebooks/data_table.ipynb>data table notebook</a>'\n",
              "          + ' to learn more about interactive tables.';\n",
              "        element.innerHTML = '';\n",
              "        dataTable['output_type'] = 'display_data';\n",
              "        await google.colab.output.renderOutput(dataTable, element);\n",
              "        const docLink = document.createElement('div');\n",
              "        docLink.innerHTML = docLinkHtml;\n",
              "        element.appendChild(docLink);\n",
              "      }\n",
              "    </script>\n",
              "  </div>\n",
              "\n",
              "\n",
              "<div id=\"df-7a72be04-e820-4550-a423-4514c710193b\">\n",
              "  <button class=\"colab-df-quickchart\" onclick=\"quickchart('df-7a72be04-e820-4550-a423-4514c710193b')\"\n",
              "            title=\"Suggest charts\"\n",
              "            style=\"display:none;\">\n",
              "\n",
              "<svg xmlns=\"http://www.w3.org/2000/svg\" height=\"24px\"viewBox=\"0 0 24 24\"\n",
              "     width=\"24px\">\n",
              "    <g>\n",
              "        <path d=\"M19 3H5c-1.1 0-2 .9-2 2v14c0 1.1.9 2 2 2h14c1.1 0 2-.9 2-2V5c0-1.1-.9-2-2-2zM9 17H7v-7h2v7zm4 0h-2V7h2v10zm4 0h-2v-4h2v4z\"/>\n",
              "    </g>\n",
              "</svg>\n",
              "  </button>\n",
              "\n",
              "<style>\n",
              "  .colab-df-quickchart {\n",
              "      --bg-color: #E8F0FE;\n",
              "      --fill-color: #1967D2;\n",
              "      --hover-bg-color: #E2EBFA;\n",
              "      --hover-fill-color: #174EA6;\n",
              "      --disabled-fill-color: #AAA;\n",
              "      --disabled-bg-color: #DDD;\n",
              "  }\n",
              "\n",
              "  [theme=dark] .colab-df-quickchart {\n",
              "      --bg-color: #3B4455;\n",
              "      --fill-color: #D2E3FC;\n",
              "      --hover-bg-color: #434B5C;\n",
              "      --hover-fill-color: #FFFFFF;\n",
              "      --disabled-bg-color: #3B4455;\n",
              "      --disabled-fill-color: #666;\n",
              "  }\n",
              "\n",
              "  .colab-df-quickchart {\n",
              "    background-color: var(--bg-color);\n",
              "    border: none;\n",
              "    border-radius: 50%;\n",
              "    cursor: pointer;\n",
              "    display: none;\n",
              "    fill: var(--fill-color);\n",
              "    height: 32px;\n",
              "    padding: 0;\n",
              "    width: 32px;\n",
              "  }\n",
              "\n",
              "  .colab-df-quickchart:hover {\n",
              "    background-color: var(--hover-bg-color);\n",
              "    box-shadow: 0 1px 2px rgba(60, 64, 67, 0.3), 0 1px 3px 1px rgba(60, 64, 67, 0.15);\n",
              "    fill: var(--button-hover-fill-color);\n",
              "  }\n",
              "\n",
              "  .colab-df-quickchart-complete:disabled,\n",
              "  .colab-df-quickchart-complete:disabled:hover {\n",
              "    background-color: var(--disabled-bg-color);\n",
              "    fill: var(--disabled-fill-color);\n",
              "    box-shadow: none;\n",
              "  }\n",
              "\n",
              "  .colab-df-spinner {\n",
              "    border: 2px solid var(--fill-color);\n",
              "    border-color: transparent;\n",
              "    border-bottom-color: var(--fill-color);\n",
              "    animation:\n",
              "      spin 1s steps(1) infinite;\n",
              "  }\n",
              "\n",
              "  @keyframes spin {\n",
              "    0% {\n",
              "      border-color: transparent;\n",
              "      border-bottom-color: var(--fill-color);\n",
              "      border-left-color: var(--fill-color);\n",
              "    }\n",
              "    20% {\n",
              "      border-color: transparent;\n",
              "      border-left-color: var(--fill-color);\n",
              "      border-top-color: var(--fill-color);\n",
              "    }\n",
              "    30% {\n",
              "      border-color: transparent;\n",
              "      border-left-color: var(--fill-color);\n",
              "      border-top-color: var(--fill-color);\n",
              "      border-right-color: var(--fill-color);\n",
              "    }\n",
              "    40% {\n",
              "      border-color: transparent;\n",
              "      border-right-color: var(--fill-color);\n",
              "      border-top-color: var(--fill-color);\n",
              "    }\n",
              "    60% {\n",
              "      border-color: transparent;\n",
              "      border-right-color: var(--fill-color);\n",
              "    }\n",
              "    80% {\n",
              "      border-color: transparent;\n",
              "      border-right-color: var(--fill-color);\n",
              "      border-bottom-color: var(--fill-color);\n",
              "    }\n",
              "    90% {\n",
              "      border-color: transparent;\n",
              "      border-bottom-color: var(--fill-color);\n",
              "    }\n",
              "  }\n",
              "</style>\n",
              "\n",
              "  <script>\n",
              "    async function quickchart(key) {\n",
              "      const quickchartButtonEl =\n",
              "        document.querySelector('#' + key + ' button');\n",
              "      quickchartButtonEl.disabled = true;  // To prevent multiple clicks.\n",
              "      quickchartButtonEl.classList.add('colab-df-spinner');\n",
              "      try {\n",
              "        const charts = await google.colab.kernel.invokeFunction(\n",
              "            'suggestCharts', [key], {});\n",
              "      } catch (error) {\n",
              "        console.error('Error during call to suggestCharts:', error);\n",
              "      }\n",
              "      quickchartButtonEl.classList.remove('colab-df-spinner');\n",
              "      quickchartButtonEl.classList.add('colab-df-quickchart-complete');\n",
              "    }\n",
              "    (() => {\n",
              "      let quickchartButtonEl =\n",
              "        document.querySelector('#df-7a72be04-e820-4550-a423-4514c710193b button');\n",
              "      quickchartButtonEl.style.display =\n",
              "        google.colab.kernel.accessAllowed ? 'block' : 'none';\n",
              "    })();\n",
              "  </script>\n",
              "</div>\n",
              "    </div>\n",
              "  </div>\n"
            ],
            "application/vnd.google.colaboratory.intrinsic+json": {
              "type": "dataframe",
              "variable_name": "df_raw",
              "summary": "{\n  \"name\": \"df_raw\",\n  \"rows\": 1168,\n  \"fields\": [\n    {\n      \"column\": \"\\u041b\\u0438\\u0447\\u043d\\u043e\\u0441\\u0442\\u044c \\u043f\\u043e\\u0434\\u0442\\u0432\\u0435\\u0440\\u0436\\u0434\\u0435\\u043d\\u0430\",\n      \"properties\": {\n        \"dtype\": \"boolean\",\n        \"num_unique_values\": 2,\n        \"samples\": [\n          true,\n          false\n        ],\n        \"semantic_type\": \"\",\n        \"description\": \"\"\n      }\n    },\n    {\n      \"column\": \"\\u0421\\u0442\\u0430\\u0442\\u0443\\u0441\",\n      \"properties\": {\n        \"dtype\": \"category\",\n        \"num_unique_values\": 5,\n        \"samples\": [\n          \"\\u0428\\u043a\\u043e\\u043b\\u044c\\u043d\\u044b\\u0439 \\u043f\\u0440\\u0435\\u043f\\u043e\\u0434\\u0430\\u0432\\u0430\\u0442\\u0435\\u043b\\u044c\",\n          \"\\u0421\\u0442\\u0443\\u0434\\u0435\\u043d\\u0442\"\n        ],\n        \"semantic_type\": \"\",\n        \"description\": \"\"\n      }\n    },\n    {\n      \"column\": \"\\u0421\\u0442\\u0430\\u0436\",\n      \"properties\": {\n        \"dtype\": \"category\",\n        \"num_unique_values\": 53,\n        \"samples\": [\n          \"24\",\n          \"40\"\n        ],\n        \"semantic_type\": \"\",\n        \"description\": \"\"\n      }\n    },\n    {\n      \"column\": \"\\u041d\\u0430 \\u0441\\u0430\\u0439\\u0442\\u0435\",\n      \"properties\": {\n        \"dtype\": \"number\",\n        \"std\": 1.8576873402549687,\n        \"min\": 0.0,\n        \"max\": 7.0,\n        \"num_unique_values\": 18,\n        \"samples\": [\n          6.0,\n          5.0\n        ],\n        \"semantic_type\": \"\",\n        \"description\": \"\"\n      }\n    },\n    {\n      \"column\": \"\\u0417\\u0430\\u043a\\u0430\\u0437\\u044b \\u0432 \\u0440\\u0430\\u0431\\u043e\\u0442\\u0435\",\n      \"properties\": {\n        \"dtype\": \"number\",\n        \"std\": 26.709868102048326,\n        \"min\": 1.0,\n        \"max\": 226.0,\n        \"num_unique_values\": 77,\n        \"samples\": [\n          26.0,\n          14.0\n        ],\n        \"semantic_type\": \"\",\n        \"description\": \"\"\n      }\n    },\n    {\n      \"column\": \"\\u041e\\u0446\\u0435\\u043d\\u043a\\u0430\",\n      \"properties\": {\n        \"dtype\": \"number\",\n        \"std\": 0.23924112645679704,\n        \"min\": 1.0,\n        \"max\": 5.0,\n        \"num_unique_values\": 28,\n        \"samples\": [\n          4.5,\n          4.69\n        ],\n        \"semantic_type\": \"\",\n        \"description\": \"\"\n      }\n    },\n    {\n      \"column\": \"\\u041a\\u043e\\u043b\\u0438\\u0447\\u0435\\u0441\\u0442\\u0432\\u043e \\u043e\\u0442\\u0437\\u044b\\u0432\\u043e\\u0432\",\n      \"properties\": {\n        \"dtype\": \"number\",\n        \"std\": 9.455466235814345,\n        \"min\": 1.0,\n        \"max\": 79.0,\n        \"num_unique_values\": 43,\n        \"samples\": [\n          25.0,\n          45.0\n        ],\n        \"semantic_type\": \"\",\n        \"description\": \"\"\n      }\n    },\n    {\n      \"column\": \"\\u0424\\u043e\\u0440\\u043c\\u0430\\u0442 \\u043e\\u0431\\u0443\\u0447\\u0435\\u043d\\u0438\\u044f\",\n      \"properties\": {\n        \"dtype\": \"category\",\n        \"num_unique_values\": 3,\n        \"samples\": [\n          \"\\u0414\\u0438\\u0441\\u0442\\u0430\\u043d\\u0446\\u0438\\u043e\\u043d\\u043d\\u043e\",\n          \"\\u0423 \\u0440\\u0435\\u043f\\u0435\\u0442\\u0438\\u0442\\u043e\\u0440\\u0430\"\n        ],\n        \"semantic_type\": \"\",\n        \"description\": \"\"\n      }\n    },\n    {\n      \"column\": \"\\u041e\\u0431\\u0440\\u0430\\u0437\\u043e\\u0432\\u0430\\u043d\\u0438\\u0435\",\n      \"properties\": {\n        \"dtype\": \"string\",\n        \"num_unique_values\": 795,\n        \"samples\": [\n          \"\\u041c\\u043e\\u0441\\u043a\\u043e\\u0432\\u0441\\u043a\\u0438\\u0439 \\u0433\\u043e\\u0441\\u0443\\u0434\\u0430\\u0440\\u0441\\u0442\\u0432\\u0435\\u043d\\u043d\\u044b\\u0439 \\u0443\\u043d\\u0438\\u0432\\u0435\\u0440\\u0441\\u0438\\u0442\\u0435\\u0442 \\u0438\\u043c\\u0435\\u043d\\u0438 \\u041d\\u0438\\u043a\\u043e\\u043b\\u0430\\u044f \\u042d\\u0440\\u043d\\u0435\\u0441\\u0442\\u043e\\u0432\\u0438\\u0447\\u0430 \\u0411\\u0430\\u0443\\u043c\\u0430\\u043d\\u0430\",\n          \"\\u0421\\u041f\\u0411\\u0413\\u0423\"\n        ],\n        \"semantic_type\": \"\",\n        \"description\": \"\"\n      }\n    },\n    {\n      \"column\": \"\\u041f\\u0440\\u0435\\u0434\\u043c\\u0435\\u0442\",\n      \"properties\": {\n        \"dtype\": \"category\",\n        \"num_unique_values\": 13,\n        \"samples\": [\n          \"\\u0425\\u0438\\u043c\\u0438\\u044f\",\n          \"\\u041b\\u043e\\u0433\\u043e\\u043f\\u0435\\u0434\"\n        ],\n        \"semantic_type\": \"\",\n        \"description\": \"\"\n      }\n    },\n    {\n      \"column\": \"\\u0426\\u0435\\u043d\\u0430\",\n      \"properties\": {\n        \"dtype\": \"number\",\n        \"std\": 1533.466001695286,\n        \"min\": 225.0,\n        \"max\": 14000.0,\n        \"num_unique_values\": 352,\n        \"samples\": [\n          1975.0,\n          1666.6666666666667\n        ],\n        \"semantic_type\": \"\",\n        \"description\": \"\"\n      }\n    },\n    {\n      \"column\": \"\\u0421 \\u043e\\u0442\\u043b\\u0438\\u0447\\u0438\\u0435\\u043c\",\n      \"properties\": {\n        \"dtype\": \"boolean\",\n        \"num_unique_values\": 2,\n        \"samples\": [\n          true,\n          false\n        ],\n        \"semantic_type\": \"\",\n        \"description\": \"\"\n      }\n    }\n  ]\n}"
            }
          },
          "metadata": {},
          "execution_count": 5
        }
      ],
      "source": [
        "# скачиваю данные в DataFrame из файла\n",
        "df_raw = pd.read_csv('parsing.csv')\n",
        "df_raw.drop(columns = ['Unnamed: 0'], inplace = True)\n",
        "df_raw.head(2)"
      ]
    },
    {
      "cell_type": "markdown",
      "source": [
        "Заполненяем пропуски:\n",
        "1. Наны в признаках: `На сайте, Заказы в работе, количество отзывов` заполняем нулями\n",
        "2. Оценку для преподавателей, у которой ее нет по каким-то причинам, заполняем средним значением\n",
        "3. Для преподавателей, не указавших статус или формат обучения выбираем наиболее часто встречавшееся значение среди других тьюторов.\n",
        "4. Пару анкет было без цены - мы их удалили"
      ],
      "metadata": {
        "id": "MVd5oYJVVL8p"
      }
    },
    {
      "cell_type": "code",
      "source": [
        "# Заполнение пропусков в столбце 'на сайте' значением 0\n",
        "df_raw['На сайте'] = df_raw['На сайте'].fillna(0)\n",
        "\n",
        "# Заполнение пропусков в столбце 'Заказы в работе' значением 0\n",
        "df_raw['Заказы в работе'] = df_raw['Заказы в работе'].fillna(0)\n",
        "\n",
        "# Заполнение пропусков в столбце 'Количество отзывов' значением 0\n",
        "df_raw['Количество отзывов'] = df_raw['Количество отзывов'].fillna(0)\n",
        "\n",
        "# Заполнение пропусков в столбце 'Оценка' средним значением\n",
        "mean_mark = df_raw['Оценка'].astype(float).mean()\n",
        "df_raw['Оценка'] = df_raw['Оценка'].fillna(mean_mark)\n",
        "\n",
        "# Заполнение пропусков в столбце 'Статус' самым популярным значением\n",
        "most_common_stat = df_raw['Статус'].mode()\n",
        "df_raw['Статус'] = df_raw['Статус'].fillna(most_common_stat)\n",
        "\n",
        "# Заполнение пропусков в столбце 'Формат обучения' самым популярным значением\n",
        "most_common_format = df_raw['Формат обучения'].mode()\n",
        "df_raw['Формат обучения'] = df_raw['Формат обучения'].fillna(most_common_format)\n",
        "\n",
        "# удаляем анкету без цены\n",
        "df_raw = df_raw[df_raw['Цена'].notna()]"
      ],
      "metadata": {
        "id": "Pj_ceTV-VNJc"
      },
      "execution_count": 6,
      "outputs": []
    },
    {
      "cell_type": "code",
      "source": [
        "df_raw.isna().sum()"
      ],
      "metadata": {
        "colab": {
          "base_uri": "https://localhost:8080/"
        },
        "id": "KW8S8F8LVpwA",
        "outputId": "bf569805-253e-4c3b-bf21-cf4cbda51e71"
      },
      "execution_count": 7,
      "outputs": [
        {
          "output_type": "execute_result",
          "data": {
            "text/plain": [
              "Личность подтверждена     0\n",
              "Статус                    0\n",
              "Стаж                      0\n",
              "На сайте                  0\n",
              "Заказы в работе           0\n",
              "Оценка                    0\n",
              "Количество отзывов        0\n",
              "Формат обучения           0\n",
              "Образование              19\n",
              "Предмет                   0\n",
              "Цена                      0\n",
              "С отличием                0\n",
              "dtype: int64"
            ]
          },
          "metadata": {},
          "execution_count": 7
        }
      ]
    },
    {
      "cell_type": "markdown",
      "source": [
        "Это нормально, что в образовании есть немного нанов, далее мы удалим этот признак, остатив другие характеристики, полученные на основе информации о вузе (признаки \"топ-10\" и \"топ-20\" вуз)."
      ],
      "metadata": {
        "id": "bByZ9qf6Wxbo"
      }
    },
    {
      "cell_type": "markdown",
      "source": [
        "Начнем как раз с ВУЗа - OHE для текущих данных лучше не делать, поэтому создадим списки из топ-10 и топ-20 вузов и добавим соответсвтующий признак (1 - если входит, 0 - если не входит)"
      ],
      "metadata": {
        "id": "aaows2YjZgOT"
      }
    },
    {
      "cell_type": "code",
      "source": [
        "# проверяем, заканчивал ли преподаватель вуз из Топ-10 или Топ-20 вуз\n",
        "top_ten = ['Национальный исследовательский Томский политехнический университет', 'МГУ им. М. В. Ломоносова', 'ФГАОУ ВО НИ ТПУ', 'ТПУ', 'Томский политехнический университет', 'Московский физико-технический институт (МФТИ)', 'Московский физико-технический институт (национальный исследовательский университет)', 'МФТИ (национальный исследовательский университет)', 'Национальный исследовательский университет \"Московский физико-технический институт\"', 'НИУ МФТИ', 'МФТИ', 'Московский физико-технический институт', 'Московский физико-технический институт (МФТИ)', 'Национальный исследовательский университет Московский физико-технический институт', 'НИУ Московский физико-технический институт', 'Московский Государственный Университет им. М.В.Ломоносова', 'МГУ им. М.В. Ломоносова', 'Московский государственный университет имени М.В. Ломоносова', 'МГУ', 'МГУ имени М.В.Ломоносова', 'МГУ имени М.В. Ломоносова', 'Московский Государственный Университет им. М.В. Ломоносова', 'Московский государственный университет имени М.В.Ломоносова', 'Санкт-Петербургский государственный университет', 'СПбГУ', 'Санкт-Петербургский университет', 'СПбУ', 'Национальный исследовательский ядерный университет «МИФИ»', 'НИЯУ МИФИ', 'МИФИ', 'Национальный исследовательский ядерный университет Московский инженерно-физический институт', 'НИЯУ Московский инженерно-физический институт', 'Московский инженерно-физический институт', 'Московский государственный технический университет имени Н.Э. Баумана', 'Московский государственный технический университет им. Н.Э. Баумана', 'Московский государственный технический университет имени Н.Э.Баумана', 'Московский государственный технический университет им. Н.Э.Баумана' , 'МГТУ им. Н.Э. Баумана', 'МГТУ им. Н.Э.Баумана', 'МГТУ имени Н.Э. Баумана', 'МГТУ имени Н.Э.Баумана', 'МГТУ', 'Национальный исследовательский университет \"Высшая школа экономики\"', 'НИУ ВШЭ', 'Высшая школа экономики', 'Национальный исследовательский университет ВШЭ', 'Национальный исследовательский университет «Высшая школа экономики» (НИУ ВШЭ)', 'НИУ Высшая школа экономики', 'ВШЭ', 'Московский Государственный Институт Международных Отношений', 'МГИМО', 'МГИМО МИД России', 'Московский государственный институт международных отношений МИД Российской Федерации', 'Московский государственный институт международных отношений МИД РФ', 'Московский государственный институт международных отношений МИД России', 'МГИМО МИД Российской Федерации', 'МГИМО МИД РФ', 'Санкт-Петербургский политехнический университет Петра Великого', 'ФГАОУ ВО СПбПУ', 'СПбПУ', 'ФГАОУ ВО «СПбПУ»', 'Политех', 'Санкт-Петербургский политехнический университет Петра Великого', 'Уральский федеральный университет имени первого Президента России Б.Н. Ельцина', 'Уральский федеральный университет им. первого Президента России Б.Н. Ельцина', 'Уральский федеральный университет имени первого Президента России Б.Н.Ельцина', 'Уральский федеральный университет им. первого Президента России Б.Н.Ельцина', 'Уральский федеральный университет имени Б.Н. Ельцина', 'Уральский федеральный университет им. Б.Н.Ельцина', 'ФГАОУ ВО «УрФУ имени первого Президента России Б.Н. Ельцина»', 'Уральский федеральный университет', 'УрФУ', 'МФТИ, Московский Физико-Технический Институт (государственный исследовательский университет)', 'НИЯУ МИФИ', 'Ленинградский государственный университет (СПбГУ)', 'Национальный исследовательский университет «Высшая школа экономики»', 'УРФУ', 'Московский Государственный Университет имени М. В. Ломоносова', 'МГУ им. М.В. Ломоносова', 'МГУ им.М.В.Ломоносова', 'МГУ имени Ломоносова']\n",
        "df_raw['Топ-10 вуз'] = df_raw['Образование'].isin (top_ten).astype(int)\n",
        "top_twenty = ['Национальный исследовательский технологический университет \"МИСИС\"', 'Новосибирский национальный исследовательский государственный университет', 'НГУ', 'Новосибирский государственный университет', 'Финансовый университет при Правительстве РФ', 'Финансовый университет при Правительстве', 'Финансовый университет', 'Финансовый университет при Правительстве России', 'Финансовый университет при Правительстве Российской Федерации', 'Российская академия народного хозяйства и государственной службы при Президенте РФ', 'Российская академия народного хозяйства и государственной службы при Президенте', 'Российская академия народного хозяйства и государственной службы при Президенте России', 'Российская академия народного хозяйства и государственной службы при Президенте Российской Федерации', 'РАНХиГС', 'РАНХИГС', 'Санкт-Петербургский национальный исследовательский университет информационных технологий, механики и оптики', 'Национальный исследовательский университет ИТМО', 'НИУ ИТМО', 'НИУ информационных технологий, механики и оптики', 'Плехановский университет', 'Российский экономический университет имени Г.В. Плеханова', 'Российский экономический университет им. Г.В. Плеханова', 'Российский экономический университет имени Г.В.Плеханова', 'Российский экономический университет им. Г.В.Плеханова', 'РЭУ имени Г.В. Плеханова', 'РЭУ им. Г.В. Плеханова', 'Первый Московский государственный медицинский университет имени И.М. Сеченова Минздрава России', 'Первый Московский государственный медицинский университет имени И.М. Сеченова', 'Первый Московский государственный медицинский университет имени И.М. Сеченова Минздрава РФ', 'Первый Московский государственный медицинский университет им. И.М. Сеченова Минздрава России', 'Первый Московский государственный медицинский университет им. И.М. Сеченова', 'Первый Московский государственный медицинский университет им. И.М. Сеченова Минздрава РФ', 'Первый МГМУ им. И. М. Сеченова', 'Первый МГМУ им. И.М. Сеченова Минздрава России', 'МГМУ им. И.М. Сеченова Минздрава России', 'МГМУ им. И. М. Сеченова', 'ФГАОУ ВО Первый МГМУ им. И.М. Сеченова Минздрава России (Сеченовский Университет)', 'ФГАОУ ВО Первый МГМУ им. И.М. Сеченова Минздрава России', 'Сеченовский Университет', 'Университет науки и технологий МИСИС', 'Университет науки и технологий «МИСиС»', 'Национальный исследовательский технологический университет «МИСиС»', 'МИСиС', 'МИСИС', 'НИТУ МИСиС', 'НИТУ «МИСиС»', 'Национальный исследовательский Томский государственный университет', 'ТГУ', 'Томский государственный университет', 'НИ ТГУ', 'Российский университет дружбы народов', 'Российский университет дружбы народов (РУДН)', 'Российский университет дружбы народов имени Патриса Лумумбы', 'Российский университет дружбы народов им. Патриса Лумумбы', 'РУДН', 'Казанский (Приволжский) федеральный университет', 'ФФГАОУВО КФУ', 'ФФГАОУВО \"КФУ\"', 'КФУ', 'Казанский федеральный университет', 'Приволжский федеральный университет', 'Казанский университет']\n",
        "df_raw['Топ-20 вуз'] = df_raw['Образование'].isin (top_twenty).astype(int)\n",
        "df_raw.drop(columns='Образование', inplace=True)"
      ],
      "metadata": {
        "id": "KhGez1nZZELi"
      },
      "execution_count": 8,
      "outputs": []
    },
    {
      "cell_type": "code",
      "source": [
        "plt.figure(figsize=(13,5))\n",
        "sns.boxplot(x='Топ-10 вуз',y='Цена',data = df_raw)\n",
        "plt.title('Ящик с усами для цены в зависимости от топ-10 вузов')"
      ],
      "metadata": {
        "colab": {
          "base_uri": "https://localhost:8080/",
          "height": 504
        },
        "id": "6GdI8GbFaINK",
        "outputId": "c87e534a-8a4b-46f5-b4e1-5f5bbc267d4d"
      },
      "execution_count": 9,
      "outputs": [
        {
          "output_type": "execute_result",
          "data": {
            "text/plain": [
              "Text(0.5, 1.0, 'Ящик с усами для цены в зависимости от топ-10 вузов')"
            ]
          },
          "metadata": {},
          "execution_count": 9
        },
        {
          "output_type": "display_data",
          "data": {
            "text/plain": [
              "<Figure size 1300x500 with 1 Axes>"
            ],
            "image/png": "[encoded data removed]"
          },
          "metadata": {}
        }
      ]
    },
    {
      "cell_type": "code",
      "source": [
        "plt.figure(figsize=(13,5))\n",
        "sns.boxplot(x='Топ-20 вуз',y='Цена',data = df_raw)\n",
        "plt.title('Ящик с усами для цены в зависимости от топ-20 вузов')"
      ],
      "metadata": {
        "colab": {
          "base_uri": "https://localhost:8080/",
          "height": 504
        },
        "id": "UnhGRdBkaRuh",
        "outputId": "80f3a90c-7052-4a6f-a5ec-17a261f8402a"
      },
      "execution_count": 10,
      "outputs": [
        {
          "output_type": "execute_result",
          "data": {
            "text/plain": [
              "Text(0.5, 1.0, 'Ящик с усами для цены в зависимости от топ-20 вузов')"
            ]
          },
          "metadata": {},
          "execution_count": 10
        },
        {
          "output_type": "display_data",
          "data": {
            "text/plain": [
              "<Figure size 1300x500 with 1 Axes>"
            ],
            "image/png": "[encoded data removed]"
          },
          "metadata": {}
        }
      ]
    },
    {
      "cell_type": "markdown",
      "source": [
        "Действительно видно, что цены на репетиторов из топ-10 вузов выше, чем на репетиторов не из этой десятки, то есть добавление этого признака оправдано и может оказаться полезным. У топ-20 различие уже не такое сильное, то есть имеет смысл отказаться от этого признака."
      ],
      "metadata": {
        "id": "fEUaRuNuaaov"
      }
    },
    {
      "cell_type": "code",
      "source": [
        "df_raw.drop('Топ-20 вуз', axis=1, inplace=True)"
      ],
      "metadata": {
        "collapsed": true,
        "id": "0K1oOk4Y_lRw"
      },
      "execution_count": 11,
      "outputs": []
    },
    {
      "cell_type": "markdown",
      "source": [
        "Стоит также предположить, что цена сильно зависит и от предмета. Визуализируем это, чтобы рассмотреть подробнее:"
      ],
      "metadata": {
        "id": "53Lr4xh3beoS"
      }
    },
    {
      "cell_type": "code",
      "source": [
        "plt.figure(figsize=(17,5))\n",
        "sns.boxplot(x='Предмет',y='Цена',data = df_raw)\n",
        "plt.xticks(rotation=45)"
      ],
      "metadata": {
        "colab": {
          "base_uri": "https://localhost:8080/",
          "height": 730
        },
        "id": "yNz_vmW_bwGW",
        "outputId": "1f44c29e-a6d1-47af-ef20-351747b25067"
      },
      "execution_count": 12,
      "outputs": [
        {
          "output_type": "execute_result",
          "data": {
            "text/plain": [
              "([0, 1, 2, 3, 4, 5, 6, 7, 8, 9, 10, 11, 12],\n",
              " [Text(0, 0, 'Русский язык'),\n",
              "  Text(1, 0, 'Математика'),\n",
              "  Text(2, 0, 'Английский язык'),\n",
              "  Text(3, 0, 'Биология'),\n",
              "  Text(4, 0, 'Обществознание'),\n",
              "  Text(5, 0, 'Музыка'),\n",
              "  Text(6, 0, 'География'),\n",
              "  Text(7, 0, 'Информатика'),\n",
              "  Text(8, 0, 'Испанский язык'),\n",
              "  Text(9, 0, 'Логопед'),\n",
              "  Text(10, 0, 'Физика'),\n",
              "  Text(11, 0, 'Химия'),\n",
              "  Text(12, 0, 'Экономика')])"
            ]
          },
          "metadata": {},
          "execution_count": 12
        },
        {
          "output_type": "display_data",
          "data": {
            "text/plain": [
              "<Figure size 1700x500 with 1 Axes>"
            ],
            "image/png": "[encoded data removed]"
          },
          "metadata": {}
        }
      ]
    },
    {
      "cell_type": "markdown",
      "source": [
        "Попробуем добавить три признака для разбивки предметов:\n",
        "\n",
        "1) разделим на преметы ЕГЭ и нет\n",
        "\n",
        "2) разделим на три группы - гуманитарные, естестенные и технические\n",
        "\n",
        "3) разделим на \"языковые\" предметы и неязыковые"
      ],
      "metadata": {
        "id": "XE_7Iyp5b0xI"
      }
    },
    {
      "cell_type": "code",
      "source": [
        "# проверяем входит ли предмет в перечень ЕГЭ\n",
        "rse_lst = ['Русский язык', 'Математика', 'Английский язык','Биология', 'Обществознание', 'География', 'Информатика', 'Физика', 'Химия', 'Испанский язык']\n",
        "df_raw['Предмет ЕГЭ'] = df_raw['Предмет'].isin (rse_lst).astype(int)\n",
        "\n",
        "\n",
        "# делим и распределяем предметы на гуманитарные, естественные и технические\n",
        "gumant = ['Русский язык', 'Английский язык', 'Обществознание', 'Испанский язык']\n",
        "estestv = ['Биология', 'Физика', 'Химия', 'География']\n",
        "tehnich = ['Математика', 'Информатика', 'Экономика']\n",
        "df_raw['Гуманитарная наука'] = df_raw['Предмет'].isin (gumant).astype(int)\n",
        "df_raw['Естественная наука'] = df_raw['Предмет'].isin (estestv).astype(int)\n",
        "df_raw['Техническая наука'] = df_raw['Предмет'].isin (tehnich).astype(int)\n",
        "\n",
        "# проверяем является ли предмет языком\n",
        "lang_lst = ['Русский язык', 'Английский язык', 'Испанский язык']\n",
        "df_raw['Языковой предмет'] = df_raw['Предмет'].isin (lang_lst).astype(int)"
      ],
      "metadata": {
        "id": "TBrrf7XscMZg"
      },
      "execution_count": 13,
      "outputs": []
    },
    {
      "cell_type": "markdown",
      "source": [
        "1. Давайте точнее поразбираемся - влияет ли, является ли предмет достпуным для сдачи ЕГЭ на цену, и поищем другие интересные вещи."
      ],
      "metadata": {
        "id": "KvjIO8eFgtPc"
      }
    },
    {
      "cell_type": "code",
      "source": [
        "# Группируем данные по предмету ЕГЭ и считаем среднюю цену\n",
        "mean_price = df_raw.groupby('Предмет ЕГЭ')['Цена'].mean()\n",
        "\n",
        "plt.bar(mean_price.index, mean_price.values)\n",
        "plt.xticks(mean_price.index, ['не ЕГЭ', 'ЕГЭ'])\n",
        "plt.xlabel('Является ли предмет доступным на ЕГЭ')\n",
        "plt.ylabel('Средняя цена')\n",
        "plt.title('Средняя цена в зависимости от предмета ЕГЭ')\n",
        "plt.show()"
      ],
      "metadata": {
        "colab": {
          "base_uri": "https://localhost:8080/",
          "height": 472
        },
        "id": "c0FsXHL5cW1S",
        "outputId": "bafd24a9-3bac-4c92-d02a-1ec18c9a3ca9"
      },
      "execution_count": 14,
      "outputs": [
        {
          "output_type": "display_data",
          "data": {
            "text/plain": [
              "<Figure size 640x480 with 1 Axes>"
            ],
            "image/png": "[encoded data removed]"
          },
          "metadata": {}
        }
      ]
    },
    {
      "cell_type": "code",
      "source": [
        "df_raw[df_raw['Предмет ЕГЭ'] == 1].describe()"
      ],
      "metadata": {
        "colab": {
          "base_uri": "https://localhost:8080/",
          "height": 314
        },
        "id": "_QD5FdSJcW6g",
        "outputId": "10c11ce9-75e3-4421-b592-c15f233ffaac"
      },
      "execution_count": 15,
      "outputs": [
        {
          "output_type": "execute_result",
          "data": {
            "text/plain": [
              "         На сайте  Заказы в работе      Оценка  Количество отзывов  \\\n",
              "count  894.000000       894.000000  894.000000          894.000000   \n",
              "mean     2.438945        12.515660    4.962393            3.925056   \n",
              "std      1.852107        23.963795    0.103746            7.900556   \n",
              "min      0.000000         0.000000    3.500000            0.000000   \n",
              "25%      1.000000         0.000000    4.951180            0.000000   \n",
              "50%      2.000000         3.000000    4.951180            1.000000   \n",
              "75%      4.000000        14.000000    5.000000            4.000000   \n",
              "max      7.000000       226.000000    5.000000           79.000000   \n",
              "\n",
              "               Цена  Топ-10 вуз  Предмет ЕГЭ  Гуманитарная наука  \\\n",
              "count    894.000000   894.00000        894.0          894.000000   \n",
              "mean    2209.641988     0.14877          1.0            0.400447   \n",
              "std     1592.301788     0.35606          0.0            0.490263   \n",
              "min      375.000000     0.00000          1.0            0.000000   \n",
              "25%     1150.000000     0.00000          1.0            0.000000   \n",
              "50%     1775.000000     0.00000          1.0            0.000000   \n",
              "75%     2828.125000     0.00000          1.0            1.000000   \n",
              "max    14000.000000     1.00000          1.0            1.000000   \n",
              "\n",
              "       Естественная наука  Техническая наука  Языковой предмет  \n",
              "count          894.000000         894.000000        894.000000  \n",
              "mean             0.398210           0.201342          0.299776  \n",
              "std              0.489803           0.401228          0.458416  \n",
              "min              0.000000           0.000000          0.000000  \n",
              "25%              0.000000           0.000000          0.000000  \n",
              "50%              0.000000           0.000000          0.000000  \n",
              "75%              1.000000           0.000000          1.000000  \n",
              "max              1.000000           1.000000          1.000000  "
            ],
            "text/html": [
              "\n",
              "  <div id=\"df-3c3a6730-8e2c-48fe-8f04-08d406d7bfbb\" class=\"colab-df-container\">\n",
              "    <div>\n",
              "<style scoped>\n",
              "    .dataframe tbody tr th:only-of-type {\n",
              "        vertical-align: middle;\n",
              "    }\n",
              "\n",
              "    .dataframe tbody tr th {\n",
              "        vertical-align: top;\n",
              "    }\n",
              "\n",
              "    .dataframe thead th {\n",
              "        text-align: right;\n",
              "    }\n",
              "</style>\n",
              "<table border=\"1\" class=\"dataframe\">\n",
              "  <thead>\n",
              "    <tr style=\"text-align: right;\">\n",
              "      <th></th>\n",
              "      <th>На сайте</th>\n",
              "      <th>Заказы в работе</th>\n",
              "      <th>Оценка</th>\n",
              "      <th>Количество отзывов</th>\n",
              "      <th>Цена</th>\n",
              "      <th>Топ-10 вуз</th>\n",
              "      <th>Предмет ЕГЭ</th>\n",
              "      <th>Гуманитарная наука</th>\n",
              "      <th>Естественная наука</th>\n",
              "      <th>Техническая наука</th>\n",
              "      <th>Языковой предмет</th>\n",
              "    </tr>\n",
              "  </thead>\n",
              "  <tbody>\n",
              "    <tr>\n",
              "      <th>count</th>\n",
              "      <td>894.000000</td>\n",
              "      <td>894.000000</td>\n",
              "      <td>894.000000</td>\n",
              "      <td>894.000000</td>\n",
              "      <td>894.000000</td>\n",
              "      <td>894.00000</td>\n",
              "      <td>894.0</td>\n",
              "      <td>894.000000</td>\n",
              "      <td>894.000000</td>\n",
              "      <td>894.000000</td>\n",
              "      <td>894.000000</td>\n",
              "    </tr>\n",
              "    <tr>\n",
              "      <th>mean</th>\n",
              "      <td>2.438945</td>\n",
              "      <td>12.515660</td>\n",
              "      <td>4.962393</td>\n",
              "      <td>3.925056</td>\n",
              "      <td>2209.641988</td>\n",
              "      <td>0.14877</td>\n",
              "      <td>1.0</td>\n",
              "      <td>0.400447</td>\n",
              "      <td>0.398210</td>\n",
              "      <td>0.201342</td>\n",
              "      <td>0.299776</td>\n",
              "    </tr>\n",
              "    <tr>\n",
              "      <th>std</th>\n",
              "      <td>1.852107</td>\n",
              "      <td>23.963795</td>\n",
              "      <td>0.103746</td>\n",
              "      <td>7.900556</td>\n",
              "      <td>1592.301788</td>\n",
              "      <td>0.35606</td>\n",
              "      <td>0.0</td>\n",
              "      <td>0.490263</td>\n",
              "      <td>0.489803</td>\n",
              "      <td>0.401228</td>\n",
              "      <td>0.458416</td>\n",
              "    </tr>\n",
              "    <tr>\n",
              "      <th>min</th>\n",
              "      <td>0.000000</td>\n",
              "      <td>0.000000</td>\n",
              "      <td>3.500000</td>\n",
              "      <td>0.000000</td>\n",
              "      <td>375.000000</td>\n",
              "      <td>0.00000</td>\n",
              "      <td>1.0</td>\n",
              "      <td>0.000000</td>\n",
              "      <td>0.000000</td>\n",
              "      <td>0.000000</td>\n",
              "      <td>0.000000</td>\n",
              "    </tr>\n",
              "    <tr>\n",
              "      <th>25%</th>\n",
              "      <td>1.000000</td>\n",
              "      <td>0.000000</td>\n",
              "      <td>4.951180</td>\n",
              "      <td>0.000000</td>\n",
              "      <td>1150.000000</td>\n",
              "      <td>0.00000</td>\n",
              "      <td>1.0</td>\n",
              "      <td>0.000000</td>\n",
              "      <td>0.000000</td>\n",
              "      <td>0.000000</td>\n",
              "      <td>0.000000</td>\n",
              "    </tr>\n",
              "    <tr>\n",
              "      <th>50%</th>\n",
              "      <td>2.000000</td>\n",
              "      <td>3.000000</td>\n",
              "      <td>4.951180</td>\n",
              "      <td>1.000000</td>\n",
              "      <td>1775.000000</td>\n",
              "      <td>0.00000</td>\n",
              "      <td>1.0</td>\n",
              "      <td>0.000000</td>\n",
              "      <td>0.000000</td>\n",
              "      <td>0.000000</td>\n",
              "      <td>0.000000</td>\n",
              "    </tr>\n",
              "    <tr>\n",
              "      <th>75%</th>\n",
              "      <td>4.000000</td>\n",
              "      <td>14.000000</td>\n",
              "      <td>5.000000</td>\n",
              "      <td>4.000000</td>\n",
              "      <td>2828.125000</td>\n",
              "      <td>0.00000</td>\n",
              "      <td>1.0</td>\n",
              "      <td>1.000000</td>\n",
              "      <td>1.000000</td>\n",
              "      <td>0.000000</td>\n",
              "      <td>1.000000</td>\n",
              "    </tr>\n",
              "    <tr>\n",
              "      <th>max</th>\n",
              "      <td>7.000000</td>\n",
              "      <td>226.000000</td>\n",
              "      <td>5.000000</td>\n",
              "      <td>79.000000</td>\n",
              "      <td>14000.000000</td>\n",
              "      <td>1.00000</td>\n",
              "      <td>1.0</td>\n",
              "      <td>1.000000</td>\n",
              "      <td>1.000000</td>\n",
              "      <td>1.000000</td>\n",
              "      <td>1.000000</td>\n",
              "    </tr>\n",
              "  </tbody>\n",
              "</table>\n",
              "</div>\n",
              "    <div class=\"colab-df-buttons\">\n",
              "\n",
              "  <div class=\"colab-df-container\">\n",
              "    <button class=\"colab-df-convert\" onclick=\"convertToInteractive('df-3c3a6730-8e2c-48fe-8f04-08d406d7bfbb')\"\n",
              "            title=\"Convert this dataframe to an interactive table.\"\n",
              "            style=\"display:none;\">\n",
              "\n",
              "  <svg xmlns=\"http://www.w3.org/2000/svg\" height=\"24px\" viewBox=\"0 -960 960 960\">\n",
              "    <path d=\"M120-120v-720h720v720H120Zm60-500h600v-160H180v160Zm220 220h160v-160H400v160Zm0 220h160v-160H400v160ZM180-400h160v-160H180v160Zm440 0h160v-160H620v160ZM180-180h160v-160H180v160Zm440 0h160v-160H620v160Z\"/>\n",
              "  </svg>\n",
              "    </button>\n",
              "\n",
              "  <style>\n",
              "    .colab-df-container {\n",
              "      display:flex;\n",
              "      gap: 12px;\n",
              "    }\n",
              "\n",
              "    .colab-df-convert {\n",
              "      background-color: #E8F0FE;\n",
              "      border: none;\n",
              "      border-radius: 50%;\n",
              "      cursor: pointer;\n",
              "      display: none;\n",
              "      fill: #1967D2;\n",
              "      height: 32px;\n",
              "      padding: 0 0 0 0;\n",
              "      width: 32px;\n",
              "    }\n",
              "\n",
              "    .colab-df-convert:hover {\n",
              "      background-color: #E2EBFA;\n",
              "      box-shadow: 0px 1px 2px rgba(60, 64, 67, 0.3), 0px 1px 3px 1px rgba(60, 64, 67, 0.15);\n",
              "      fill: #174EA6;\n",
              "    }\n",
              "\n",
              "    .colab-df-buttons div {\n",
              "      margin-bottom: 4px;\n",
              "    }\n",
              "\n",
              "    [theme=dark] .colab-df-convert {\n",
              "      background-color: #3B4455;\n",
              "      fill: #D2E3FC;\n",
              "    }\n",
              "\n",
              "    [theme=dark] .colab-df-convert:hover {\n",
              "      background-color: #434B5C;\n",
              "      box-shadow: 0px 1px 3px 1px rgba(0, 0, 0, 0.15);\n",
              "      filter: drop-shadow(0px 1px 2px rgba(0, 0, 0, 0.3));\n",
              "      fill: #FFFFFF;\n",
              "    }\n",
              "  </style>\n",
              "\n",
              "    <script>\n",
              "      const buttonEl =\n",
              "        document.querySelector('#df-3c3a6730-8e2c-48fe-8f04-08d406d7bfbb button.colab-df-convert');\n",
              "      buttonEl.style.display =\n",
              "        google.colab.kernel.accessAllowed ? 'block' : 'none';\n",
              "\n",
              "      async function convertToInteractive(key) {\n",
              "        const element = document.querySelector('#df-3c3a6730-8e2c-48fe-8f04-08d406d7bfbb');\n",
              "        const dataTable =\n",
              "          await google.colab.kernel.invokeFunction('convertToInteractive',\n",
              "                                                    [key], {});\n",
              "        if (!dataTable) return;\n",
              "\n",
              "        const docLinkHtml = 'Like what you see? Visit the ' +\n",
              "          '<a target=\"_blank\" href=https://colab.research.google.com/notebooks/data_table.ipynb>data table notebook</a>'\n",
              "          + ' to learn more about interactive tables.';\n",
              "        element.innerHTML = '';\n",
              "        dataTable['output_type'] = 'display_data';\n",
              "        await google.colab.output.renderOutput(dataTable, element);\n",
              "        const docLink = document.createElement('div');\n",
              "        docLink.innerHTML = docLinkHtml;\n",
              "        element.appendChild(docLink);\n",
              "      }\n",
              "    </script>\n",
              "  </div>\n",
              "\n",
              "\n",
              "<div id=\"df-e7460026-949d-49bb-a833-f10ed6455143\">\n",
              "  <button class=\"colab-df-quickchart\" onclick=\"quickchart('df-e7460026-949d-49bb-a833-f10ed6455143')\"\n",
              "            title=\"Suggest charts\"\n",
              "            style=\"display:none;\">\n",
              "\n",
              "<svg xmlns=\"http://www.w3.org/2000/svg\" height=\"24px\"viewBox=\"0 0 24 24\"\n",
              "     width=\"24px\">\n",
              "    <g>\n",
              "        <path d=\"M19 3H5c-1.1 0-2 .9-2 2v14c0 1.1.9 2 2 2h14c1.1 0 2-.9 2-2V5c0-1.1-.9-2-2-2zM9 17H7v-7h2v7zm4 0h-2V7h2v10zm4 0h-2v-4h2v4z\"/>\n",
              "    </g>\n",
              "</svg>\n",
              "  </button>\n",
              "\n",
              "<style>\n",
              "  .colab-df-quickchart {\n",
              "      --bg-color: #E8F0FE;\n",
              "      --fill-color: #1967D2;\n",
              "      --hover-bg-color: #E2EBFA;\n",
              "      --hover-fill-color: #174EA6;\n",
              "      --disabled-fill-color: #AAA;\n",
              "      --disabled-bg-color: #DDD;\n",
              "  }\n",
              "\n",
              "  [theme=dark] .colab-df-quickchart {\n",
              "      --bg-color: #3B4455;\n",
              "      --fill-color: #D2E3FC;\n",
              "      --hover-bg-color: #434B5C;\n",
              "      --hover-fill-color: #FFFFFF;\n",
              "      --disabled-bg-color: #3B4455;\n",
              "      --disabled-fill-color: #666;\n",
              "  }\n",
              "\n",
              "  .colab-df-quickchart {\n",
              "    background-color: var(--bg-color);\n",
              "    border: none;\n",
              "    border-radius: 50%;\n",
              "    cursor: pointer;\n",
              "    display: none;\n",
              "    fill: var(--fill-color);\n",
              "    height: 32px;\n",
              "    padding: 0;\n",
              "    width: 32px;\n",
              "  }\n",
              "\n",
              "  .colab-df-quickchart:hover {\n",
              "    background-color: var(--hover-bg-color);\n",
              "    box-shadow: 0 1px 2px rgba(60, 64, 67, 0.3), 0 1px 3px 1px rgba(60, 64, 67, 0.15);\n",
              "    fill: var(--button-hover-fill-color);\n",
              "  }\n",
              "\n",
              "  .colab-df-quickchart-complete:disabled,\n",
              "  .colab-df-quickchart-complete:disabled:hover {\n",
              "    background-color: var(--disabled-bg-color);\n",
              "    fill: var(--disabled-fill-color);\n",
              "    box-shadow: none;\n",
              "  }\n",
              "\n",
              "  .colab-df-spinner {\n",
              "    border: 2px solid var(--fill-color);\n",
              "    border-color: transparent;\n",
              "    border-bottom-color: var(--fill-color);\n",
              "    animation:\n",
              "      spin 1s steps(1) infinite;\n",
              "  }\n",
              "\n",
              "  @keyframes spin {\n",
              "    0% {\n",
              "      border-color: transparent;\n",
              "      border-bottom-color: var(--fill-color);\n",
              "      border-left-color: var(--fill-color);\n",
              "    }\n",
              "    20% {\n",
              "      border-color: transparent;\n",
              "      border-left-color: var(--fill-color);\n",
              "      border-top-color: var(--fill-color);\n",
              "    }\n",
              "    30% {\n",
              "      border-color: transparent;\n",
              "      border-left-color: var(--fill-color);\n",
              "      border-top-color: var(--fill-color);\n",
              "      border-right-color: var(--fill-color);\n",
              "    }\n",
              "    40% {\n",
              "      border-color: transparent;\n",
              "      border-right-color: var(--fill-color);\n",
              "      border-top-color: var(--fill-color);\n",
              "    }\n",
              "    60% {\n",
              "      border-color: transparent;\n",
              "      border-right-color: var(--fill-color);\n",
              "    }\n",
              "    80% {\n",
              "      border-color: transparent;\n",
              "      border-right-color: var(--fill-color);\n",
              "      border-bottom-color: var(--fill-color);\n",
              "    }\n",
              "    90% {\n",
              "      border-color: transparent;\n",
              "      border-bottom-color: var(--fill-color);\n",
              "    }\n",
              "  }\n",
              "</style>\n",
              "\n",
              "  <script>\n",
              "    async function quickchart(key) {\n",
              "      const quickchartButtonEl =\n",
              "        document.querySelector('#' + key + ' button');\n",
              "      quickchartButtonEl.disabled = true;  // To prevent multiple clicks.\n",
              "      quickchartButtonEl.classList.add('colab-df-spinner');\n",
              "      try {\n",
              "        const charts = await google.colab.kernel.invokeFunction(\n",
              "            'suggestCharts', [key], {});\n",
              "      } catch (error) {\n",
              "        console.error('Error during call to suggestCharts:', error);\n",
              "      }\n",
              "      quickchartButtonEl.classList.remove('colab-df-spinner');\n",
              "      quickchartButtonEl.classList.add('colab-df-quickchart-complete');\n",
              "    }\n",
              "    (() => {\n",
              "      let quickchartButtonEl =\n",
              "        document.querySelector('#df-e7460026-949d-49bb-a833-f10ed6455143 button');\n",
              "      quickchartButtonEl.style.display =\n",
              "        google.colab.kernel.accessAllowed ? 'block' : 'none';\n",
              "    })();\n",
              "  </script>\n",
              "</div>\n",
              "    </div>\n",
              "  </div>\n"
            ],
            "application/vnd.google.colaboratory.intrinsic+json": {
              "type": "dataframe",
              "summary": "{\n  \"name\": \"df_raw[df_raw['\\u041f\\u0440\\u0435\\u0434\\u043c\\u0435\\u0442 \\u0415\\u0413\\u042d'] == 1]\",\n  \"rows\": 8,\n  \"fields\": [\n    {\n      \"column\": \"\\u041d\\u0430 \\u0441\\u0430\\u0439\\u0442\\u0435\",\n      \"properties\": {\n        \"dtype\": \"number\",\n        \"std\": 315.16005194282815,\n        \"min\": 0.0,\n        \"max\": 894.0,\n        \"num_unique_values\": 8,\n        \"samples\": [\n          2.4389448173005217,\n          2.0,\n          894.0\n        ],\n        \"semantic_type\": \"\",\n        \"description\": \"\"\n      }\n    },\n    {\n      \"column\": \"\\u0417\\u0430\\u043a\\u0430\\u0437\\u044b \\u0432 \\u0440\\u0430\\u0431\\u043e\\u0442\\u0435\",\n      \"properties\": {\n        \"dtype\": \"number\",\n        \"std\": 311.47486743533216,\n        \"min\": 0.0,\n        \"max\": 894.0,\n        \"num_unique_values\": 7,\n        \"samples\": [\n          894.0,\n          12.51565995525727,\n          14.0\n        ],\n        \"semantic_type\": \"\",\n        \"description\": \"\"\n      }\n    },\n    {\n      \"column\": \"\\u041e\\u0446\\u0435\\u043d\\u043a\\u0430\",\n      \"properties\": {\n        \"dtype\": \"number\",\n        \"std\": 314.643425849685,\n        \"min\": 0.10374611015705329,\n        \"max\": 894.0,\n        \"num_unique_values\": 6,\n        \"samples\": [\n          894.0,\n          4.962393358972426,\n          5.0\n        ],\n        \"semantic_type\": \"\",\n        \"description\": \"\"\n      }\n    },\n    {\n      \"column\": \"\\u041a\\u043e\\u043b\\u0438\\u0447\\u0435\\u0441\\u0442\\u0432\\u043e \\u043e\\u0442\\u0437\\u044b\\u0432\\u043e\\u0432\",\n      \"properties\": {\n        \"dtype\": \"number\",\n        \"std\": 312.38768999791444,\n        \"min\": 0.0,\n        \"max\": 894.0,\n        \"num_unique_values\": 7,\n        \"samples\": [\n          894.0,\n          3.9250559284116333,\n          4.0\n        ],\n        \"semantic_type\": \"\",\n        \"description\": \"\"\n      }\n    },\n    {\n      \"column\": \"\\u0426\\u0435\\u043d\\u0430\",\n      \"properties\": {\n        \"dtype\": \"number\",\n        \"std\": 4468.939166058512,\n        \"min\": 375.0,\n        \"max\": 14000.0,\n        \"num_unique_values\": 8,\n        \"samples\": [\n          2209.64198823997,\n          1775.0,\n          894.0\n        ],\n        \"semantic_type\": \"\",\n        \"description\": \"\"\n      }\n    },\n    {\n      \"column\": \"\\u0422\\u043e\\u043f-10 \\u0432\\u0443\\u0437\",\n      \"properties\": {\n        \"dtype\": \"number\",\n        \"std\": 316.00091237450783,\n        \"min\": 0.0,\n        \"max\": 894.0,\n        \"num_unique_values\": 5,\n        \"samples\": [\n          0.1487695749440716,\n          1.0,\n          0.35606038740137164\n        ],\n        \"semantic_type\": \"\",\n        \"description\": \"\"\n      }\n    },\n    {\n      \"column\": \"\\u041f\\u0440\\u0435\\u0434\\u043c\\u0435\\u0442 \\u0415\\u0413\\u042d\",\n      \"properties\": {\n        \"dtype\": \"number\",\n        \"std\": 315.77387931420617,\n        \"min\": 0.0,\n        \"max\": 894.0,\n        \"num_unique_values\": 3,\n        \"samples\": [\n          894.0,\n          1.0,\n          0.0\n        ],\n        \"semantic_type\": \"\",\n        \"description\": \"\"\n      }\n    },\n    {\n      \"column\": \"\\u0413\\u0443\\u043c\\u0430\\u043d\\u0438\\u0442\\u0430\\u0440\\u043d\\u0430\\u044f \\u043d\\u0430\\u0443\\u043a\\u0430\",\n      \"properties\": {\n        \"dtype\": \"number\",\n        \"std\": 315.93100113197636,\n        \"min\": 0.0,\n        \"max\": 894.0,\n        \"num_unique_values\": 5,\n        \"samples\": [\n          0.4004474272930649,\n          1.0,\n          0.49026333969593594\n        ],\n        \"semantic_type\": \"\",\n        \"description\": \"\"\n      }\n    },\n    {\n      \"column\": \"\\u0415\\u0441\\u0442\\u0435\\u0441\\u0442\\u0432\\u0435\\u043d\\u043d\\u0430\\u044f \\u043d\\u0430\\u0443\\u043a\\u0430\",\n      \"properties\": {\n        \"dtype\": \"number\",\n        \"std\": 315.9311373606957,\n        \"min\": 0.0,\n        \"max\": 894.0,\n        \"num_unique_values\": 5,\n        \"samples\": [\n          0.3982102908277405,\n          1.0,\n          0.48980323364381045\n        ],\n        \"semantic_type\": \"\",\n        \"description\": \"\"\n      }\n    },\n    {\n      \"column\": \"\\u0422\\u0435\\u0445\\u043d\\u0438\\u0447\\u0435\\u0441\\u043a\\u0430\\u044f \\u043d\\u0430\\u0443\\u043a\\u0430\",\n      \"properties\": {\n        \"dtype\": \"number\",\n        \"std\": 315.9959778474992,\n        \"min\": 0.0,\n        \"max\": 894.0,\n        \"num_unique_values\": 5,\n        \"samples\": [\n          0.20134228187919462,\n          1.0,\n          0.401227664289216\n        ],\n        \"semantic_type\": \"\",\n        \"description\": \"\"\n      }\n    },\n    {\n      \"column\": \"\\u042f\\u0437\\u044b\\u043a\\u043e\\u0432\\u043e\\u0439 \\u043f\\u0440\\u0435\\u0434\\u043c\\u0435\\u0442\",\n      \"properties\": {\n        \"dtype\": \"number\",\n        \"std\": 315.9376957135478,\n        \"min\": 0.0,\n        \"max\": 894.0,\n        \"num_unique_values\": 5,\n        \"samples\": [\n          0.29977628635346754,\n          1.0,\n          0.45841632453904446\n        ],\n        \"semantic_type\": \"\",\n        \"description\": \"\"\n      }\n    }\n  ]\n}"
            }
          },
          "metadata": {},
          "execution_count": 15
        }
      ]
    },
    {
      "cell_type": "code",
      "source": [
        "df_raw[df_raw['Предмет ЕГЭ'] == 0].describe()"
      ],
      "metadata": {
        "colab": {
          "base_uri": "https://localhost:8080/",
          "height": 314
        },
        "id": "65x8JLpkcW-g",
        "outputId": "bd3fb360-020c-49f6-97bf-91d49aa1c315"
      },
      "execution_count": 16,
      "outputs": [
        {
          "output_type": "execute_result",
          "data": {
            "text/plain": [
              "         На сайте  Заказы в работе      Оценка  Количество отзывов  \\\n",
              "count  269.000000       269.000000  269.000000          269.000000   \n",
              "mean     1.955390         0.754647    4.913731            0.308550   \n",
              "std      1.961968         2.672278    0.275920            1.507927   \n",
              "min      0.000000         0.000000    1.000000            0.000000   \n",
              "25%      0.166667         0.000000    4.951180            0.000000   \n",
              "50%      1.000000         0.000000    4.951180            0.000000   \n",
              "75%      3.000000         0.000000    4.951180            0.000000   \n",
              "max      7.000000        25.000000    5.000000           19.000000   \n",
              "\n",
              "              Цена  Топ-10 вуз  Предмет ЕГЭ  Гуманитарная наука  \\\n",
              "count   269.000000  269.000000        269.0               269.0   \n",
              "mean   1456.418390    0.055762          0.0                 0.0   \n",
              "std    1144.443419    0.229889          0.0                 0.0   \n",
              "min     225.000000    0.000000          0.0                 0.0   \n",
              "25%     800.000000    0.000000          0.0                 0.0   \n",
              "50%    1125.000000    0.000000          0.0                 0.0   \n",
              "75%    1721.428571    0.000000          0.0                 0.0   \n",
              "max    8125.000000    1.000000          0.0                 0.0   \n",
              "\n",
              "       Естественная наука  Техническая наука  Языковой предмет  \n",
              "count               269.0         269.000000             269.0  \n",
              "mean                  0.0           0.334572               0.0  \n",
              "std                   0.0           0.472720               0.0  \n",
              "min                   0.0           0.000000               0.0  \n",
              "25%                   0.0           0.000000               0.0  \n",
              "50%                   0.0           0.000000               0.0  \n",
              "75%                   0.0           1.000000               0.0  \n",
              "max                   0.0           1.000000               0.0  "
            ],
            "text/html": [
              "\n",
              "  <div id=\"df-98a5bc1f-bf50-4e0b-8a11-de7fadafa1de\" class=\"colab-df-container\">\n",
              "    <div>\n",
              "<style scoped>\n",
              "    .dataframe tbody tr th:only-of-type {\n",
              "        vertical-align: middle;\n",
              "    }\n",
              "\n",
              "    .dataframe tbody tr th {\n",
              "        vertical-align: top;\n",
              "    }\n",
              "\n",
              "    .dataframe thead th {\n",
              "        text-align: right;\n",
              "    }\n",
              "</style>\n",
              "<table border=\"1\" class=\"dataframe\">\n",
              "  <thead>\n",
              "    <tr style=\"text-align: right;\">\n",
              "      <th></th>\n",
              "      <th>На сайте</th>\n",
              "      <th>Заказы в работе</th>\n",
              "      <th>Оценка</th>\n",
              "      <th>Количество отзывов</th>\n",
              "      <th>Цена</th>\n",
              "      <th>Топ-10 вуз</th>\n",
              "      <th>Предмет ЕГЭ</th>\n",
              "      <th>Гуманитарная наука</th>\n",
              "      <th>Естественная наука</th>\n",
              "      <th>Техническая наука</th>\n",
              "      <th>Языковой предмет</th>\n",
              "    </tr>\n",
              "  </thead>\n",
              "  <tbody>\n",
              "    <tr>\n",
              "      <th>count</th>\n",
              "      <td>269.000000</td>\n",
              "      <td>269.000000</td>\n",
              "      <td>269.000000</td>\n",
              "      <td>269.000000</td>\n",
              "      <td>269.000000</td>\n",
              "      <td>269.000000</td>\n",
              "      <td>269.0</td>\n",
              "      <td>269.0</td>\n",
              "      <td>269.0</td>\n",
              "      <td>269.000000</td>\n",
              "      <td>269.0</td>\n",
              "    </tr>\n",
              "    <tr>\n",
              "      <th>mean</th>\n",
              "      <td>1.955390</td>\n",
              "      <td>0.754647</td>\n",
              "      <td>4.913731</td>\n",
              "      <td>0.308550</td>\n",
              "      <td>1456.418390</td>\n",
              "      <td>0.055762</td>\n",
              "      <td>0.0</td>\n",
              "      <td>0.0</td>\n",
              "      <td>0.0</td>\n",
              "      <td>0.334572</td>\n",
              "      <td>0.0</td>\n",
              "    </tr>\n",
              "    <tr>\n",
              "      <th>std</th>\n",
              "      <td>1.961968</td>\n",
              "      <td>2.672278</td>\n",
              "      <td>0.275920</td>\n",
              "      <td>1.507927</td>\n",
              "      <td>1144.443419</td>\n",
              "      <td>0.229889</td>\n",
              "      <td>0.0</td>\n",
              "      <td>0.0</td>\n",
              "      <td>0.0</td>\n",
              "      <td>0.472720</td>\n",
              "      <td>0.0</td>\n",
              "    </tr>\n",
              "    <tr>\n",
              "      <th>min</th>\n",
              "      <td>0.000000</td>\n",
              "      <td>0.000000</td>\n",
              "      <td>1.000000</td>\n",
              "      <td>0.000000</td>\n",
              "      <td>225.000000</td>\n",
              "      <td>0.000000</td>\n",
              "      <td>0.0</td>\n",
              "      <td>0.0</td>\n",
              "      <td>0.0</td>\n",
              "      <td>0.000000</td>\n",
              "      <td>0.0</td>\n",
              "    </tr>\n",
              "    <tr>\n",
              "      <th>25%</th>\n",
              "      <td>0.166667</td>\n",
              "      <td>0.000000</td>\n",
              "      <td>4.951180</td>\n",
              "      <td>0.000000</td>\n",
              "      <td>800.000000</td>\n",
              "      <td>0.000000</td>\n",
              "      <td>0.0</td>\n",
              "      <td>0.0</td>\n",
              "      <td>0.0</td>\n",
              "      <td>0.000000</td>\n",
              "      <td>0.0</td>\n",
              "    </tr>\n",
              "    <tr>\n",
              "      <th>50%</th>\n",
              "      <td>1.000000</td>\n",
              "      <td>0.000000</td>\n",
              "      <td>4.951180</td>\n",
              "      <td>0.000000</td>\n",
              "      <td>1125.000000</td>\n",
              "      <td>0.000000</td>\n",
              "      <td>0.0</td>\n",
              "      <td>0.0</td>\n",
              "      <td>0.0</td>\n",
              "      <td>0.000000</td>\n",
              "      <td>0.0</td>\n",
              "    </tr>\n",
              "    <tr>\n",
              "      <th>75%</th>\n",
              "      <td>3.000000</td>\n",
              "      <td>0.000000</td>\n",
              "      <td>4.951180</td>\n",
              "      <td>0.000000</td>\n",
              "      <td>1721.428571</td>\n",
              "      <td>0.000000</td>\n",
              "      <td>0.0</td>\n",
              "      <td>0.0</td>\n",
              "      <td>0.0</td>\n",
              "      <td>1.000000</td>\n",
              "      <td>0.0</td>\n",
              "    </tr>\n",
              "    <tr>\n",
              "      <th>max</th>\n",
              "      <td>7.000000</td>\n",
              "      <td>25.000000</td>\n",
              "      <td>5.000000</td>\n",
              "      <td>19.000000</td>\n",
              "      <td>8125.000000</td>\n",
              "      <td>1.000000</td>\n",
              "      <td>0.0</td>\n",
              "      <td>0.0</td>\n",
              "      <td>0.0</td>\n",
              "      <td>1.000000</td>\n",
              "      <td>0.0</td>\n",
              "    </tr>\n",
              "  </tbody>\n",
              "</table>\n",
              "</div>\n",
              "    <div class=\"colab-df-buttons\">\n",
              "\n",
              "  <div class=\"colab-df-container\">\n",
              "    <button class=\"colab-df-convert\" onclick=\"convertToInteractive('df-98a5bc1f-bf50-4e0b-8a11-de7fadafa1de')\"\n",
              "            title=\"Convert this dataframe to an interactive table.\"\n",
              "            style=\"display:none;\">\n",
              "\n",
              "  <svg xmlns=\"http://www.w3.org/2000/svg\" height=\"24px\" viewBox=\"0 -960 960 960\">\n",
              "    <path d=\"M120-120v-720h720v720H120Zm60-500h600v-160H180v160Zm220 220h160v-160H400v160Zm0 220h160v-160H400v160ZM180-400h160v-160H180v160Zm440 0h160v-160H620v160ZM180-180h160v-160H180v160Zm440 0h160v-160H620v160Z\"/>\n",
              "  </svg>\n",
              "    </button>\n",
              "\n",
              "  <style>\n",
              "    .colab-df-container {\n",
              "      display:flex;\n",
              "      gap: 12px;\n",
              "    }\n",
              "\n",
              "    .colab-df-convert {\n",
              "      background-color: #E8F0FE;\n",
              "      border: none;\n",
              "      border-radius: 50%;\n",
              "      cursor: pointer;\n",
              "      display: none;\n",
              "      fill: #1967D2;\n",
              "      height: 32px;\n",
              "      padding: 0 0 0 0;\n",
              "      width: 32px;\n",
              "    }\n",
              "\n",
              "    .colab-df-convert:hover {\n",
              "      background-color: #E2EBFA;\n",
              "      box-shadow: 0px 1px 2px rgba(60, 64, 67, 0.3), 0px 1px 3px 1px rgba(60, 64, 67, 0.15);\n",
              "      fill: #174EA6;\n",
              "    }\n",
              "\n",
              "    .colab-df-buttons div {\n",
              "      margin-bottom: 4px;\n",
              "    }\n",
              "\n",
              "    [theme=dark] .colab-df-convert {\n",
              "      background-color: #3B4455;\n",
              "      fill: #D2E3FC;\n",
              "    }\n",
              "\n",
              "    [theme=dark] .colab-df-convert:hover {\n",
              "      background-color: #434B5C;\n",
              "      box-shadow: 0px 1px 3px 1px rgba(0, 0, 0, 0.15);\n",
              "      filter: drop-shadow(0px 1px 2px rgba(0, 0, 0, 0.3));\n",
              "      fill: #FFFFFF;\n",
              "    }\n",
              "  </style>\n",
              "\n",
              "    <script>\n",
              "      const buttonEl =\n",
              "        document.querySelector('#df-98a5bc1f-bf50-4e0b-8a11-de7fadafa1de button.colab-df-convert');\n",
              "      buttonEl.style.display =\n",
              "        google.colab.kernel.accessAllowed ? 'block' : 'none';\n",
              "\n",
              "      async function convertToInteractive(key) {\n",
              "        const element = document.querySelector('#df-98a5bc1f-bf50-4e0b-8a11-de7fadafa1de');\n",
              "        const dataTable =\n",
              "          await google.colab.kernel.invokeFunction('convertToInteractive',\n",
              "                                                    [key], {});\n",
              "        if (!dataTable) return;\n",
              "\n",
              "        const docLinkHtml = 'Like what you see? Visit the ' +\n",
              "          '<a target=\"_blank\" href=https://colab.research.google.com/notebooks/data_table.ipynb>data table notebook</a>'\n",
              "          + ' to learn more about interactive tables.';\n",
              "        element.innerHTML = '';\n",
              "        dataTable['output_type'] = 'display_data';\n",
              "        await google.colab.output.renderOutput(dataTable, element);\n",
              "        const docLink = document.createElement('div');\n",
              "        docLink.innerHTML = docLinkHtml;\n",
              "        element.appendChild(docLink);\n",
              "      }\n",
              "    </script>\n",
              "  </div>\n",
              "\n",
              "\n",
              "<div id=\"df-de489d82-ee61-4230-ba56-00df489b3a1f\">\n",
              "  <button class=\"colab-df-quickchart\" onclick=\"quickchart('df-de489d82-ee61-4230-ba56-00df489b3a1f')\"\n",
              "            title=\"Suggest charts\"\n",
              "            style=\"display:none;\">\n",
              "\n",
              "<svg xmlns=\"http://www.w3.org/2000/svg\" height=\"24px\"viewBox=\"0 0 24 24\"\n",
              "     width=\"24px\">\n",
              "    <g>\n",
              "        <path d=\"M19 3H5c-1.1 0-2 .9-2 2v14c0 1.1.9 2 2 2h14c1.1 0 2-.9 2-2V5c0-1.1-.9-2-2-2zM9 17H7v-7h2v7zm4 0h-2V7h2v10zm4 0h-2v-4h2v4z\"/>\n",
              "    </g>\n",
              "</svg>\n",
              "  </button>\n",
              "\n",
              "<style>\n",
              "  .colab-df-quickchart {\n",
              "      --bg-color: #E8F0FE;\n",
              "      --fill-color: #1967D2;\n",
              "      --hover-bg-color: #E2EBFA;\n",
              "      --hover-fill-color: #174EA6;\n",
              "      --disabled-fill-color: #AAA;\n",
              "      --disabled-bg-color: #DDD;\n",
              "  }\n",
              "\n",
              "  [theme=dark] .colab-df-quickchart {\n",
              "      --bg-color: #3B4455;\n",
              "      --fill-color: #D2E3FC;\n",
              "      --hover-bg-color: #434B5C;\n",
              "      --hover-fill-color: #FFFFFF;\n",
              "      --disabled-bg-color: #3B4455;\n",
              "      --disabled-fill-color: #666;\n",
              "  }\n",
              "\n",
              "  .colab-df-quickchart {\n",
              "    background-color: var(--bg-color);\n",
              "    border: none;\n",
              "    border-radius: 50%;\n",
              "    cursor: pointer;\n",
              "    display: none;\n",
              "    fill: var(--fill-color);\n",
              "    height: 32px;\n",
              "    padding: 0;\n",
              "    width: 32px;\n",
              "  }\n",
              "\n",
              "  .colab-df-quickchart:hover {\n",
              "    background-color: var(--hover-bg-color);\n",
              "    box-shadow: 0 1px 2px rgba(60, 64, 67, 0.3), 0 1px 3px 1px rgba(60, 64, 67, 0.15);\n",
              "    fill: var(--button-hover-fill-color);\n",
              "  }\n",
              "\n",
              "  .colab-df-quickchart-complete:disabled,\n",
              "  .colab-df-quickchart-complete:disabled:hover {\n",
              "    background-color: var(--disabled-bg-color);\n",
              "    fill: var(--disabled-fill-color);\n",
              "    box-shadow: none;\n",
              "  }\n",
              "\n",
              "  .colab-df-spinner {\n",
              "    border: 2px solid var(--fill-color);\n",
              "    border-color: transparent;\n",
              "    border-bottom-color: var(--fill-color);\n",
              "    animation:\n",
              "      spin 1s steps(1) infinite;\n",
              "  }\n",
              "\n",
              "  @keyframes spin {\n",
              "    0% {\n",
              "      border-color: transparent;\n",
              "      border-bottom-color: var(--fill-color);\n",
              "      border-left-color: var(--fill-color);\n",
              "    }\n",
              "    20% {\n",
              "      border-color: transparent;\n",
              "      border-left-color: var(--fill-color);\n",
              "      border-top-color: var(--fill-color);\n",
              "    }\n",
              "    30% {\n",
              "      border-color: transparent;\n",
              "      border-left-color: var(--fill-color);\n",
              "      border-top-color: var(--fill-color);\n",
              "      border-right-color: var(--fill-color);\n",
              "    }\n",
              "    40% {\n",
              "      border-color: transparent;\n",
              "      border-right-color: var(--fill-color);\n",
              "      border-top-color: var(--fill-color);\n",
              "    }\n",
              "    60% {\n",
              "      border-color: transparent;\n",
              "      border-right-color: var(--fill-color);\n",
              "    }\n",
              "    80% {\n",
              "      border-color: transparent;\n",
              "      border-right-color: var(--fill-color);\n",
              "      border-bottom-color: var(--fill-color);\n",
              "    }\n",
              "    90% {\n",
              "      border-color: transparent;\n",
              "      border-bottom-color: var(--fill-color);\n",
              "    }\n",
              "  }\n",
              "</style>\n",
              "\n",
              "  <script>\n",
              "    async function quickchart(key) {\n",
              "      const quickchartButtonEl =\n",
              "        document.querySelector('#' + key + ' button');\n",
              "      quickchartButtonEl.disabled = true;  // To prevent multiple clicks.\n",
              "      quickchartButtonEl.classList.add('colab-df-spinner');\n",
              "      try {\n",
              "        const charts = await google.colab.kernel.invokeFunction(\n",
              "            'suggestCharts', [key], {});\n",
              "      } catch (error) {\n",
              "        console.error('Error during call to suggestCharts:', error);\n",
              "      }\n",
              "      quickchartButtonEl.classList.remove('colab-df-spinner');\n",
              "      quickchartButtonEl.classList.add('colab-df-quickchart-complete');\n",
              "    }\n",
              "    (() => {\n",
              "      let quickchartButtonEl =\n",
              "        document.querySelector('#df-de489d82-ee61-4230-ba56-00df489b3a1f button');\n",
              "      quickchartButtonEl.style.display =\n",
              "        google.colab.kernel.accessAllowed ? 'block' : 'none';\n",
              "    })();\n",
              "  </script>\n",
              "</div>\n",
              "    </div>\n",
              "  </div>\n"
            ],
            "application/vnd.google.colaboratory.intrinsic+json": {
              "type": "dataframe",
              "summary": "{\n  \"name\": \"df_raw[df_raw['\\u041f\\u0440\\u0435\\u0434\\u043c\\u0435\\u0442 \\u0415\\u0413\\u042d'] == 0]\",\n  \"rows\": 8,\n  \"fields\": [\n    {\n      \"column\": \"\\u041d\\u0430 \\u0441\\u0430\\u0439\\u0442\\u0435\",\n      \"properties\": {\n        \"dtype\": \"number\",\n        \"std\": 94.36989076591162,\n        \"min\": 0.0,\n        \"max\": 269.0,\n        \"num_unique_values\": 8,\n        \"samples\": [\n          1.9553903345724908,\n          1.0,\n          269.0\n        ],\n        \"semantic_type\": \"\",\n        \"description\": \"\"\n      }\n    },\n    {\n      \"column\": \"\\u0417\\u0430\\u043a\\u0430\\u0437\\u044b \\u0432 \\u0440\\u0430\\u0431\\u043e\\u0442\\u0435\",\n      \"properties\": {\n        \"dtype\": \"number\",\n        \"std\": 94.06370455982639,\n        \"min\": 0.0,\n        \"max\": 269.0,\n        \"num_unique_values\": 5,\n        \"samples\": [\n          0.7546468401486989,\n          25.0,\n          2.6722780065359455\n        ],\n        \"semantic_type\": \"\",\n        \"description\": \"\"\n      }\n    },\n    {\n      \"column\": \"\\u041e\\u0446\\u0435\\u043d\\u043a\\u0430\",\n      \"properties\": {\n        \"dtype\": \"number\",\n        \"std\": 93.81094432509961,\n        \"min\": 0.2759198927799255,\n        \"max\": 269.0,\n        \"num_unique_values\": 6,\n        \"samples\": [\n          269.0,\n          4.9137308383108484,\n          5.0\n        ],\n        \"semantic_type\": \"\",\n        \"description\": \"\"\n      }\n    },\n    {\n      \"column\": \"\\u041a\\u043e\\u043b\\u0438\\u0447\\u0435\\u0441\\u0442\\u0432\\u043e \\u043e\\u0442\\u0437\\u044b\\u0432\\u043e\\u0432\",\n      \"properties\": {\n        \"dtype\": \"number\",\n        \"std\": 94.28313758113809,\n        \"min\": 0.0,\n        \"max\": 269.0,\n        \"num_unique_values\": 5,\n        \"samples\": [\n          0.30855018587360594,\n          19.0,\n          1.507927230335372\n        ],\n        \"semantic_type\": \"\",\n        \"description\": \"\"\n      }\n    },\n    {\n      \"column\": \"\\u0426\\u0435\\u043d\\u0430\",\n      \"properties\": {\n        \"dtype\": \"number\",\n        \"std\": 2586.0238061989544,\n        \"min\": 225.0,\n        \"max\": 8125.0,\n        \"num_unique_values\": 8,\n        \"samples\": [\n          1456.4183900568657,\n          1125.0,\n          269.0\n        ],\n        \"semantic_type\": \"\",\n        \"description\": \"\"\n      }\n    },\n    {\n      \"column\": \"\\u0422\\u043e\\u043f-10 \\u0432\\u0443\\u0437\",\n      \"properties\": {\n        \"dtype\": \"number\",\n        \"std\": 95.04154300980042,\n        \"min\": 0.0,\n        \"max\": 269.0,\n        \"num_unique_values\": 5,\n        \"samples\": [\n          0.055762081784386616,\n          1.0,\n          0.22988940213407064\n        ],\n        \"semantic_type\": \"\",\n        \"description\": \"\"\n      }\n    },\n    {\n      \"column\": \"\\u041f\\u0440\\u0435\\u0434\\u043c\\u0435\\u0442 \\u0415\\u0413\\u042d\",\n      \"properties\": {\n        \"dtype\": \"number\",\n        \"std\": 95.10586206959064,\n        \"min\": 0.0,\n        \"max\": 269.0,\n        \"num_unique_values\": 2,\n        \"samples\": [\n          0.0,\n          269.0\n        ],\n        \"semantic_type\": \"\",\n        \"description\": \"\"\n      }\n    },\n    {\n      \"column\": \"\\u0413\\u0443\\u043c\\u0430\\u043d\\u0438\\u0442\\u0430\\u0440\\u043d\\u0430\\u044f \\u043d\\u0430\\u0443\\u043a\\u0430\",\n      \"properties\": {\n        \"dtype\": \"number\",\n        \"std\": 95.10586206959064,\n        \"min\": 0.0,\n        \"max\": 269.0,\n        \"num_unique_values\": 2,\n        \"samples\": [\n          0.0,\n          269.0\n        ],\n        \"semantic_type\": \"\",\n        \"description\": \"\"\n      }\n    },\n    {\n      \"column\": \"\\u0415\\u0441\\u0442\\u0435\\u0441\\u0442\\u0432\\u0435\\u043d\\u043d\\u0430\\u044f \\u043d\\u0430\\u0443\\u043a\\u0430\",\n      \"properties\": {\n        \"dtype\": \"number\",\n        \"std\": 95.10586206959064,\n        \"min\": 0.0,\n        \"max\": 269.0,\n        \"num_unique_values\": 2,\n        \"samples\": [\n          0.0,\n          269.0\n        ],\n        \"semantic_type\": \"\",\n        \"description\": \"\"\n      }\n    },\n    {\n      \"column\": \"\\u0422\\u0435\\u0445\\u043d\\u0438\\u0447\\u0435\\u0441\\u043a\\u0430\\u044f \\u043d\\u0430\\u0443\\u043a\\u0430\",\n      \"properties\": {\n        \"dtype\": \"number\",\n        \"std\": 94.96498215723769,\n        \"min\": 0.0,\n        \"max\": 269.0,\n        \"num_unique_values\": 5,\n        \"samples\": [\n          0.3345724907063197,\n          1.0\n        ],\n        \"semantic_type\": \"\",\n        \"description\": \"\"\n      }\n    },\n    {\n      \"column\": \"\\u042f\\u0437\\u044b\\u043a\\u043e\\u0432\\u043e\\u0439 \\u043f\\u0440\\u0435\\u0434\\u043c\\u0435\\u0442\",\n      \"properties\": {\n        \"dtype\": \"number\",\n        \"std\": 95.10586206959064,\n        \"min\": 0.0,\n        \"max\": 269.0,\n        \"num_unique_values\": 2,\n        \"samples\": [\n          0.0,\n          269.0\n        ],\n        \"semantic_type\": \"\",\n        \"description\": \"\"\n      }\n    }\n  ]\n}"
            }
          },
          "metadata": {},
          "execution_count": 16
        }
      ]
    },
    {
      "cell_type": "markdown",
      "source": [
        "Итог - по всем меркам цена и другие показатели для репетиторов по предметам ЕГЭ выше - так что точно имеет смысл добавлять этот признак"
      ],
      "metadata": {
        "id": "pH-hKWiAhNmx"
      }
    },
    {
      "cell_type": "markdown",
      "source": [
        "2. Теперь поработаем с делением предметов на гуманитарные, естественные и технические - будет ли тип предмета влиять на цену и есть ли еще инетресные закономерности, связанные с этим делением"
      ],
      "metadata": {
        "id": "YzEYtRtLiX4o"
      }
    },
    {
      "cell_type": "code",
      "source": [
        "df_raw[df_raw['Техническая наука'] == 1]['Цена'].mean()"
      ],
      "metadata": {
        "colab": {
          "base_uri": "https://localhost:8080/"
        },
        "id": "dXjnS19TyGiC",
        "outputId": "1f876a57-99d2-41ea-b3fe-81dffa3c74f8"
      },
      "execution_count": 17,
      "outputs": [
        {
          "output_type": "execute_result",
          "data": {
            "text/plain": [
              "2338.422633744856"
            ]
          },
          "metadata": {},
          "execution_count": 17
        }
      ]
    },
    {
      "cell_type": "code",
      "source": [
        "df_raw[df_raw['Гуманитарная наука'] == 1]['Цена'].mean()"
      ],
      "metadata": {
        "colab": {
          "base_uri": "https://localhost:8080/"
        },
        "id": "Co2UWqGAzvEx",
        "outputId": "f0cb5b26-f1ad-4d64-e5bd-14fd6a19de69"
      },
      "execution_count": 18,
      "outputs": [
        {
          "output_type": "execute_result",
          "data": {
            "text/plain": [
              "2128.0474167177254"
            ]
          },
          "metadata": {},
          "execution_count": 18
        }
      ]
    },
    {
      "cell_type": "code",
      "source": [
        "df_raw[df_raw['Естественная наука'] == 1]['Цена'].mean()"
      ],
      "metadata": {
        "colab": {
          "base_uri": "https://localhost:8080/"
        },
        "id": "09eF3LXKzxhA",
        "outputId": "06f52120-4ac2-4e0e-92b4-099a9a7f42ee"
      },
      "execution_count": 19,
      "outputs": [
        {
          "output_type": "execute_result",
          "data": {
            "text/plain": [
              "2053.9380183253074"
            ]
          },
          "metadata": {},
          "execution_count": 19
        }
      ]
    },
    {
      "cell_type": "code",
      "source": [
        "df_raw[(df_raw['Естественная наука'] != 1) & (df_raw['Гуманитарная наука'] != 1) & (df_raw['Естественная наука'] != 1)]['Цена'].mean()"
      ],
      "metadata": {
        "colab": {
          "base_uri": "https://localhost:8080/"
        },
        "id": "k399LHH21uB4",
        "outputId": "9883e256-0a8a-4316-c375-4855ad8814d9"
      },
      "execution_count": 20,
      "outputs": [
        {
          "output_type": "execute_result",
          "data": {
            "text/plain": [
              "1946.8899213876944"
            ]
          },
          "metadata": {},
          "execution_count": 20
        }
      ]
    },
    {
      "cell_type": "code",
      "source": [
        "df_sub_split = pd.DataFrame({'Предмет': ['Техническая наука', 'Гуманитарная наука', 'Естественная наука', 'Прочие'], 'Средняя цена': [2338.3, 2105.1, 2054.0, 1946.8]})\n",
        "df_sub_split"
      ],
      "metadata": {
        "colab": {
          "base_uri": "https://localhost:8080/",
          "height": 173
        },
        "id": "nHc5kjrMz4ES",
        "outputId": "07820329-8558-4fb6-dfff-b447c12a4923"
      },
      "execution_count": 21,
      "outputs": [
        {
          "output_type": "execute_result",
          "data": {
            "text/plain": [
              "              Предмет  Средняя цена\n",
              "0   Техническая наука        2338.3\n",
              "1  Гуманитарная наука        2105.1\n",
              "2  Естественная наука        2054.0\n",
              "3              Прочие        1946.8"
            ],
            "text/html": [
              "\n",
              "  <div id=\"df-67e42486-b6d6-425b-9b2f-b93c0fb18e4c\" class=\"colab-df-container\">\n",
              "    <div>\n",
              "<style scoped>\n",
              "    .dataframe tbody tr th:only-of-type {\n",
              "        vertical-align: middle;\n",
              "    }\n",
              "\n",
              "    .dataframe tbody tr th {\n",
              "        vertical-align: top;\n",
              "    }\n",
              "\n",
              "    .dataframe thead th {\n",
              "        text-align: right;\n",
              "    }\n",
              "</style>\n",
              "<table border=\"1\" class=\"dataframe\">\n",
              "  <thead>\n",
              "    <tr style=\"text-align: right;\">\n",
              "      <th></th>\n",
              "      <th>Предмет</th>\n",
              "      <th>Средняя цена</th>\n",
              "    </tr>\n",
              "  </thead>\n",
              "  <tbody>\n",
              "    <tr>\n",
              "      <th>0</th>\n",
              "      <td>Техническая наука</td>\n",
              "      <td>2338.3</td>\n",
              "    </tr>\n",
              "    <tr>\n",
              "      <th>1</th>\n",
              "      <td>Гуманитарная наука</td>\n",
              "      <td>2105.1</td>\n",
              "    </tr>\n",
              "    <tr>\n",
              "      <th>2</th>\n",
              "      <td>Естественная наука</td>\n",
              "      <td>2054.0</td>\n",
              "    </tr>\n",
              "    <tr>\n",
              "      <th>3</th>\n",
              "      <td>Прочие</td>\n",
              "      <td>1946.8</td>\n",
              "    </tr>\n",
              "  </tbody>\n",
              "</table>\n",
              "</div>\n",
              "    <div class=\"colab-df-buttons\">\n",
              "\n",
              "  <div class=\"colab-df-container\">\n",
              "    <button class=\"colab-df-convert\" onclick=\"convertToInteractive('df-67e42486-b6d6-425b-9b2f-b93c0fb18e4c')\"\n",
              "            title=\"Convert this dataframe to an interactive table.\"\n",
              "            style=\"display:none;\">\n",
              "\n",
              "  <svg xmlns=\"http://www.w3.org/2000/svg\" height=\"24px\" viewBox=\"0 -960 960 960\">\n",
              "    <path d=\"M120-120v-720h720v720H120Zm60-500h600v-160H180v160Zm220 220h160v-160H400v160Zm0 220h160v-160H400v160ZM180-400h160v-160H180v160Zm440 0h160v-160H620v160ZM180-180h160v-160H180v160Zm440 0h160v-160H620v160Z\"/>\n",
              "  </svg>\n",
              "    </button>\n",
              "\n",
              "  <style>\n",
              "    .colab-df-container {\n",
              "      display:flex;\n",
              "      gap: 12px;\n",
              "    }\n",
              "\n",
              "    .colab-df-convert {\n",
              "      background-color: #E8F0FE;\n",
              "      border: none;\n",
              "      border-radius: 50%;\n",
              "      cursor: pointer;\n",
              "      display: none;\n",
              "      fill: #1967D2;\n",
              "      height: 32px;\n",
              "      padding: 0 0 0 0;\n",
              "      width: 32px;\n",
              "    }\n",
              "\n",
              "    .colab-df-convert:hover {\n",
              "      background-color: #E2EBFA;\n",
              "      box-shadow: 0px 1px 2px rgba(60, 64, 67, 0.3), 0px 1px 3px 1px rgba(60, 64, 67, 0.15);\n",
              "      fill: #174EA6;\n",
              "    }\n",
              "\n",
              "    .colab-df-buttons div {\n",
              "      margin-bottom: 4px;\n",
              "    }\n",
              "\n",
              "    [theme=dark] .colab-df-convert {\n",
              "      background-color: #3B4455;\n",
              "      fill: #D2E3FC;\n",
              "    }\n",
              "\n",
              "    [theme=dark] .colab-df-convert:hover {\n",
              "      background-color: #434B5C;\n",
              "      box-shadow: 0px 1px 3px 1px rgba(0, 0, 0, 0.15);\n",
              "      filter: drop-shadow(0px 1px 2px rgba(0, 0, 0, 0.3));\n",
              "      fill: #FFFFFF;\n",
              "    }\n",
              "  </style>\n",
              "\n",
              "    <script>\n",
              "      const buttonEl =\n",
              "        document.querySelector('#df-67e42486-b6d6-425b-9b2f-b93c0fb18e4c button.colab-df-convert');\n",
              "      buttonEl.style.display =\n",
              "        google.colab.kernel.accessAllowed ? 'block' : 'none';\n",
              "\n",
              "      async function convertToInteractive(key) {\n",
              "        const element = document.querySelector('#df-67e42486-b6d6-425b-9b2f-b93c0fb18e4c');\n",
              "        const dataTable =\n",
              "          await google.colab.kernel.invokeFunction('convertToInteractive',\n",
              "                                                    [key], {});\n",
              "        if (!dataTable) return;\n",
              "\n",
              "        const docLinkHtml = 'Like what you see? Visit the ' +\n",
              "          '<a target=\"_blank\" href=https://colab.research.google.com/notebooks/data_table.ipynb>data table notebook</a>'\n",
              "          + ' to learn more about interactive tables.';\n",
              "        element.innerHTML = '';\n",
              "        dataTable['output_type'] = 'display_data';\n",
              "        await google.colab.output.renderOutput(dataTable, element);\n",
              "        const docLink = document.createElement('div');\n",
              "        docLink.innerHTML = docLinkHtml;\n",
              "        element.appendChild(docLink);\n",
              "      }\n",
              "    </script>\n",
              "  </div>\n",
              "\n",
              "\n",
              "<div id=\"df-3c8322fb-9089-4032-81bb-68d302ef8ad8\">\n",
              "  <button class=\"colab-df-quickchart\" onclick=\"quickchart('df-3c8322fb-9089-4032-81bb-68d302ef8ad8')\"\n",
              "            title=\"Suggest charts\"\n",
              "            style=\"display:none;\">\n",
              "\n",
              "<svg xmlns=\"http://www.w3.org/2000/svg\" height=\"24px\"viewBox=\"0 0 24 24\"\n",
              "     width=\"24px\">\n",
              "    <g>\n",
              "        <path d=\"M19 3H5c-1.1 0-2 .9-2 2v14c0 1.1.9 2 2 2h14c1.1 0 2-.9 2-2V5c0-1.1-.9-2-2-2zM9 17H7v-7h2v7zm4 0h-2V7h2v10zm4 0h-2v-4h2v4z\"/>\n",
              "    </g>\n",
              "</svg>\n",
              "  </button>\n",
              "\n",
              "<style>\n",
              "  .colab-df-quickchart {\n",
              "      --bg-color: #E8F0FE;\n",
              "      --fill-color: #1967D2;\n",
              "      --hover-bg-color: #E2EBFA;\n",
              "      --hover-fill-color: #174EA6;\n",
              "      --disabled-fill-color: #AAA;\n",
              "      --disabled-bg-color: #DDD;\n",
              "  }\n",
              "\n",
              "  [theme=dark] .colab-df-quickchart {\n",
              "      --bg-color: #3B4455;\n",
              "      --fill-color: #D2E3FC;\n",
              "      --hover-bg-color: #434B5C;\n",
              "      --hover-fill-color: #FFFFFF;\n",
              "      --disabled-bg-color: #3B4455;\n",
              "      --disabled-fill-color: #666;\n",
              "  }\n",
              "\n",
              "  .colab-df-quickchart {\n",
              "    background-color: var(--bg-color);\n",
              "    border: none;\n",
              "    border-radius: 50%;\n",
              "    cursor: pointer;\n",
              "    display: none;\n",
              "    fill: var(--fill-color);\n",
              "    height: 32px;\n",
              "    padding: 0;\n",
              "    width: 32px;\n",
              "  }\n",
              "\n",
              "  .colab-df-quickchart:hover {\n",
              "    background-color: var(--hover-bg-color);\n",
              "    box-shadow: 0 1px 2px rgba(60, 64, 67, 0.3), 0 1px 3px 1px rgba(60, 64, 67, 0.15);\n",
              "    fill: var(--button-hover-fill-color);\n",
              "  }\n",
              "\n",
              "  .colab-df-quickchart-complete:disabled,\n",
              "  .colab-df-quickchart-complete:disabled:hover {\n",
              "    background-color: var(--disabled-bg-color);\n",
              "    fill: var(--disabled-fill-color);\n",
              "    box-shadow: none;\n",
              "  }\n",
              "\n",
              "  .colab-df-spinner {\n",
              "    border: 2px solid var(--fill-color);\n",
              "    border-color: transparent;\n",
              "    border-bottom-color: var(--fill-color);\n",
              "    animation:\n",
              "      spin 1s steps(1) infinite;\n",
              "  }\n",
              "\n",
              "  @keyframes spin {\n",
              "    0% {\n",
              "      border-color: transparent;\n",
              "      border-bottom-color: var(--fill-color);\n",
              "      border-left-color: var(--fill-color);\n",
              "    }\n",
              "    20% {\n",
              "      border-color: transparent;\n",
              "      border-left-color: var(--fill-color);\n",
              "      border-top-color: var(--fill-color);\n",
              "    }\n",
              "    30% {\n",
              "      border-color: transparent;\n",
              "      border-left-color: var(--fill-color);\n",
              "      border-top-color: var(--fill-color);\n",
              "      border-right-color: var(--fill-color);\n",
              "    }\n",
              "    40% {\n",
              "      border-color: transparent;\n",
              "      border-right-color: var(--fill-color);\n",
              "      border-top-color: var(--fill-color);\n",
              "    }\n",
              "    60% {\n",
              "      border-color: transparent;\n",
              "      border-right-color: var(--fill-color);\n",
              "    }\n",
              "    80% {\n",
              "      border-color: transparent;\n",
              "      border-right-color: var(--fill-color);\n",
              "      border-bottom-color: var(--fill-color);\n",
              "    }\n",
              "    90% {\n",
              "      border-color: transparent;\n",
              "      border-bottom-color: var(--fill-color);\n",
              "    }\n",
              "  }\n",
              "</style>\n",
              "\n",
              "  <script>\n",
              "    async function quickchart(key) {\n",
              "      const quickchartButtonEl =\n",
              "        document.querySelector('#' + key + ' button');\n",
              "      quickchartButtonEl.disabled = true;  // To prevent multiple clicks.\n",
              "      quickchartButtonEl.classList.add('colab-df-spinner');\n",
              "      try {\n",
              "        const charts = await google.colab.kernel.invokeFunction(\n",
              "            'suggestCharts', [key], {});\n",
              "      } catch (error) {\n",
              "        console.error('Error during call to suggestCharts:', error);\n",
              "      }\n",
              "      quickchartButtonEl.classList.remove('colab-df-spinner');\n",
              "      quickchartButtonEl.classList.add('colab-df-quickchart-complete');\n",
              "    }\n",
              "    (() => {\n",
              "      let quickchartButtonEl =\n",
              "        document.querySelector('#df-3c8322fb-9089-4032-81bb-68d302ef8ad8 button');\n",
              "      quickchartButtonEl.style.display =\n",
              "        google.colab.kernel.accessAllowed ? 'block' : 'none';\n",
              "    })();\n",
              "  </script>\n",
              "</div>\n",
              "    </div>\n",
              "  </div>\n"
            ],
            "application/vnd.google.colaboratory.intrinsic+json": {
              "type": "dataframe",
              "variable_name": "df_sub_split",
              "summary": "{\n  \"name\": \"df_sub_split\",\n  \"rows\": 4,\n  \"fields\": [\n    {\n      \"column\": \"\\u041f\\u0440\\u0435\\u0434\\u043c\\u0435\\u0442\",\n      \"properties\": {\n        \"dtype\": \"string\",\n        \"num_unique_values\": 4,\n        \"samples\": [\n          \"\\u0413\\u0443\\u043c\\u0430\\u043d\\u0438\\u0442\\u0430\\u0440\\u043d\\u0430\\u044f \\u043d\\u0430\\u0443\\u043a\\u0430\",\n          \"\\u041f\\u0440\\u043e\\u0447\\u0438\\u0435\",\n          \"\\u0422\\u0435\\u0445\\u043d\\u0438\\u0447\\u0435\\u0441\\u043a\\u0430\\u044f \\u043d\\u0430\\u0443\\u043a\\u0430\"\n        ],\n        \"semantic_type\": \"\",\n        \"description\": \"\"\n      }\n    },\n    {\n      \"column\": \"\\u0421\\u0440\\u0435\\u0434\\u043d\\u044f\\u044f \\u0446\\u0435\\u043d\\u0430\",\n      \"properties\": {\n        \"dtype\": \"number\",\n        \"std\": 165.2379395498101,\n        \"min\": 1946.8,\n        \"max\": 2338.3,\n        \"num_unique_values\": 4,\n        \"samples\": [\n          2105.1,\n          1946.8,\n          2338.3\n        ],\n        \"semantic_type\": \"\",\n        \"description\": \"\"\n      }\n    }\n  ]\n}"
            }
          },
          "metadata": {},
          "execution_count": 21
        }
      ]
    },
    {
      "cell_type": "code",
      "source": [
        "plt.bar(df_sub_split['Предмет'], df_sub_split['Средняя цена'])\n",
        "plt.ylabel('Средняя Цена')\n",
        "plt.title('Средняя Цена по Группам')\n",
        "plt.xticks(rotation=45)\n",
        "plt.show()"
      ],
      "metadata": {
        "colab": {
          "base_uri": "https://localhost:8080/",
          "height": 556
        },
        "id": "vgnYlUhV0Q2P",
        "outputId": "f9ed3a5b-3694-4745-b765-3a9b141e1471"
      },
      "execution_count": 22,
      "outputs": [
        {
          "output_type": "display_data",
          "data": {
            "text/plain": [
              "<Figure size 640x480 with 1 Axes>"
            ],
            "image/png": "[encoded data removed]"
          },
          "metadata": {}
        }
      ]
    },
    {
      "cell_type": "markdown",
      "source": [
        "Все 4 столбца имеют разные средние цены, поэтому целесообразно выделить три из них и добавить соотвествубщие признаки."
      ],
      "metadata": {
        "id": "3zLVOEEX2n9N"
      }
    },
    {
      "cell_type": "markdown",
      "source": [
        "3. Рассмотрим, что нам дает информация о том, является ли предмет языком или нет."
      ],
      "metadata": {
        "id": "efkndgxfppYH"
      }
    },
    {
      "cell_type": "code",
      "source": [
        "plt.figure(figsize=(13,5))\n",
        "sns.boxplot(x='Языковой предмет',y='Цена',data = df_raw)\n",
        "plt.title('Ящик с усами для цены в зависимости от того, является ли предмет языком или нет')"
      ],
      "metadata": {
        "colab": {
          "base_uri": "https://localhost:8080/",
          "height": 504
        },
        "id": "dJlFkYpIqOlE",
        "outputId": "1f0e2cfb-940b-40ad-8a49-ac8079524f02"
      },
      "execution_count": 23,
      "outputs": [
        {
          "output_type": "execute_result",
          "data": {
            "text/plain": [
              "Text(0.5, 1.0, 'Ящик с усами для цены в зависимости от того, является ли предмет языком или нет')"
            ]
          },
          "metadata": {},
          "execution_count": 23
        },
        {
          "output_type": "display_data",
          "data": {
            "text/plain": [
              "<Figure size 1300x500 with 1 Axes>"
            ],
            "image/png": "[encoded data removed]"
          },
          "metadata": {}
        }
      ]
    },
    {
      "cell_type": "markdown",
      "source": [
        "Особо ничего не показывает, значения показателей для предметов-языков и не-языков примерно совпадают. Можно удалять признак за ненадобностью."
      ],
      "metadata": {
        "id": "vuBeNlHW-uoa"
      }
    },
    {
      "cell_type": "code",
      "source": [
        "df_raw.drop('Языковой предмет', axis=1, inplace=True)"
      ],
      "metadata": {
        "id": "qvPniI6oAJcg"
      },
      "execution_count": 24,
      "outputs": []
    },
    {
      "cell_type": "markdown",
      "source": [
        "Еще в первичных данных у нас есть сведения об оценке (рейтинге преподавателя) - посмотрим, что могут принести они."
      ],
      "metadata": {
        "id": "GPpN52sApLoj"
      }
    },
    {
      "cell_type": "code",
      "source": [
        "df_raw.plot.scatter(x = 'Оценка', y = 'Цена')"
      ],
      "metadata": {
        "colab": {
          "base_uri": "https://localhost:8080/",
          "height": 466
        },
        "id": "b_o5kYVucXCv",
        "outputId": "fac10238-7e33-461a-f236-259bd677eba2"
      },
      "execution_count": 25,
      "outputs": [
        {
          "output_type": "execute_result",
          "data": {
            "text/plain": [
              "<Axes: xlabel='Оценка', ylabel='Цена'>"
            ]
          },
          "metadata": {},
          "execution_count": 25
        },
        {
          "output_type": "display_data",
          "data": {
            "text/plain": [
              "<Figure size 640x480 with 1 Axes>"
            ],
            "image/png": "[encoded data removed]"
          },
          "metadata": {}
        }
      ]
    },
    {
      "cell_type": "markdown",
      "source": [
        "Давайте посмотрим на график без этого выброса с оценкой = 1"
      ],
      "metadata": {
        "id": "7H7D_-lUme22"
      }
    },
    {
      "cell_type": "code",
      "source": [
        "df_raw_filter = df_raw[df_raw['Оценка'] != 1]"
      ],
      "metadata": {
        "id": "B69Ydt4_mmc4"
      },
      "execution_count": 26,
      "outputs": []
    },
    {
      "cell_type": "code",
      "source": [
        "df_raw_filter.plot.scatter(x = 'Оценка', y = 'Цена')"
      ],
      "metadata": {
        "colab": {
          "base_uri": "https://localhost:8080/",
          "height": 466
        },
        "id": "gPid2YaVcXHQ",
        "outputId": "730afbbb-7910-431b-d6e4-c622d3ae4e38"
      },
      "execution_count": 27,
      "outputs": [
        {
          "output_type": "execute_result",
          "data": {
            "text/plain": [
              "<Axes: xlabel='Оценка', ylabel='Цена'>"
            ]
          },
          "metadata": {},
          "execution_count": 27
        },
        {
          "output_type": "display_data",
          "data": {
            "text/plain": [
              "<Figure size 640x480 with 1 Axes>"
            ],
            "image/png": "[encoded data removed]"
          },
          "metadata": {}
        }
      ]
    },
    {
      "cell_type": "code",
      "source": [
        "df_raw_filter[df_raw_filter['Оценка'] <= 4.7]['Цена'].mean()"
      ],
      "metadata": {
        "colab": {
          "base_uri": "https://localhost:8080/"
        },
        "id": "ozNJI5uBnxJb",
        "outputId": "c4266ca3-6ddb-4d28-fc9c-6a4753dc5204"
      },
      "execution_count": 28,
      "outputs": [
        {
          "output_type": "execute_result",
          "data": {
            "text/plain": [
              "2298.3630952380954"
            ]
          },
          "metadata": {},
          "execution_count": 28
        }
      ]
    },
    {
      "cell_type": "code",
      "source": [
        "df_raw_filter[df_raw_filter['Оценка'] > 4.7]['Цена'].mean()"
      ],
      "metadata": {
        "colab": {
          "base_uri": "https://localhost:8080/"
        },
        "id": "4O1K9JhLoJwv",
        "outputId": "c2f17c35-316a-4535-bc3a-1ad1e39510d3"
      },
      "execution_count": 29,
      "outputs": [
        {
          "output_type": "execute_result",
          "data": {
            "text/plain": [
              "2031.0947013410505"
            ]
          },
          "metadata": {},
          "execution_count": 29
        }
      ]
    },
    {
      "cell_type": "markdown",
      "source": [
        "Интересно, что у репетиторов, у которых меньше оценка (рейтинг), цена выше. Объяснений почему так можно придумать несколько, но в приницпе было не очевидно."
      ],
      "metadata": {
        "id": "6_Vrexd_o1kz"
      }
    },
    {
      "cell_type": "markdown",
      "source": [
        "И последнее, с чем мы поработаем - данные о стаже. Выберем 15% преподавателей с самым большим стажем и посмотрим на распределения для них."
      ],
      "metadata": {
        "id": "ruvAhmu662JS"
      }
    },
    {
      "cell_type": "code",
      "source": [
        "# ищем 0,85 квантиль стажа и добавляем признак, показывающий, что стаж препода больше этого значения\n",
        "df_raw = df_raw[(df_raw['Стаж'] != 'Студент') & (df_raw['Стаж'] != 'Частный')]\n",
        "df_raw['Стаж'] = df_raw['Стаж'].astype(float)\n",
        "biggest_experience = df_raw['Стаж'].quantile(0.85)\n",
        "df_raw['Большой стаж'] = (df_raw['Стаж'].astype(float) > biggest_experience).astype(int)"
      ],
      "metadata": {
        "colab": {
          "base_uri": "https://localhost:8080/"
        },
        "collapsed": true,
        "id": "JUUccEtLqZB0",
        "outputId": "4a7a982f-03b2-41b1-c32e-0c7bf88f87f0"
      },
      "execution_count": 30,
      "outputs": [
        {
          "output_type": "stream",
          "name": "stderr",
          "text": [
            "<ipython-input-30-e7ee14de9e0b>:3: SettingWithCopyWarning: \n",
            "A value is trying to be set on a copy of a slice from a DataFrame.\n",
            "Try using .loc[row_indexer,col_indexer] = value instead\n",
            "\n",
            "See the caveats in the documentation: https://pandas.pydata.org/pandas-docs/stable/user_guide/indexing.html#returning-a-view-versus-a-copy\n",
            "  df_raw['Стаж'] = df_raw['Стаж'].astype(float)\n",
            "<ipython-input-30-e7ee14de9e0b>:5: SettingWithCopyWarning: \n",
            "A value is trying to be set on a copy of a slice from a DataFrame.\n",
            "Try using .loc[row_indexer,col_indexer] = value instead\n",
            "\n",
            "See the caveats in the documentation: https://pandas.pydata.org/pandas-docs/stable/user_guide/indexing.html#returning-a-view-versus-a-copy\n",
            "  df_raw['Большой стаж'] = (df_raw['Стаж'].astype(float) > biggest_experience).astype(int)\n"
          ]
        }
      ]
    },
    {
      "cell_type": "code",
      "source": [
        "sns.violinplot(x='Большой стаж', y='Цена', data=df_raw)\n",
        "plt.xlabel('Большой ли стаж у преподавателя?')\n",
        "plt.ylabel('Цена')\n",
        "plt.title('Violin plot для двух типов')\n",
        "plt.show()"
      ],
      "metadata": {
        "colab": {
          "base_uri": "https://localhost:8080/",
          "height": 472
        },
        "id": "MXy0Lq5EqZG8",
        "outputId": "06bd7b8d-2bf0-44ef-f0a0-7e6b4546bc7a"
      },
      "execution_count": 31,
      "outputs": [
        {
          "output_type": "display_data",
          "data": {
            "text/plain": [
              "<Figure size 640x480 with 1 Axes>"
            ],
            "image/png": "[encoded data removed]"
          },
          "metadata": {}
        }
      ]
    },
    {
      "cell_type": "markdown",
      "source": [
        "Интересно, что преподаватели с большим стажем не особо поднимают цену - первый и третий квантиль, медиана, минимум, самые \"частые\" цены - примерно одинаковые. А еще интересно, что именно преподаватели с не таким большим опытом работают за самый большой ценник (возможно, более возрастные и опытные учителя просто имеют психологический барьер на устоновление высокой цены, но это просто догадка, которую не проверить тут)."
      ],
      "metadata": {
        "id": "V9bEjvkY8Kz5"
      }
    },
    {
      "cell_type": "code",
      "source": [
        "# ванхотим\n",
        "df = pd.get_dummies(df_raw)\n",
        "df = df.astype(float)"
      ],
      "metadata": {
        "id": "qPE8SOWsPPOa"
      },
      "execution_count": 32,
      "outputs": []
    },
    {
      "cell_type": "markdown",
      "source": [
        "Снова добавляем вторичные признаки, в этот раз - квадраты и полиномы, чтобы модель отыскала в том числе нелинейные взаимосвязи. Взяты квадраты всех числовых признаков `'Стаж', 'На сайте', 'Заказы в работе', 'Оценка', 'Количество отзывов'`, далее полиномы первой степени этих признаков формата `Признак_1 * Признак_2` и полиномы второй степени формата `Признак_1^2 * Признак_2`"
      ],
      "metadata": {
        "id": "de-fuxSJPTB2"
      }
    },
    {
      "cell_type": "code",
      "source": [
        "columns_to_create_new_features = df.columns[1:6]\n",
        "#создание квадратов признаков\n",
        "for i in range(len(columns_to_create_new_features.values)):\n",
        "  df[f'{columns_to_create_new_features[i]}^2'] = df[columns_to_create_new_features[i]]**2\n",
        "#полиномы первой степени\n",
        "for i in range(len(columns_to_create_new_features.values[:-1])):\n",
        "  for j in range(len(columns_to_create_new_features.values[i+1:])):\n",
        "    df[f'{columns_to_create_new_features[i]} * {columns_to_create_new_features[i+1:][j]}'] = df[columns_to_create_new_features[i]] * df[columns_to_create_new_features[i+1:][j]]\n",
        "#полиномы, где один признак - квадрат, а другой - нет\n",
        "for i in range(len(columns_to_create_new_features.values)):\n",
        "  for j in range(len(columns_to_create_new_features.values)):\n",
        "    if i==j:\n",
        "      continue\n",
        "    df[f'{columns_to_create_new_features[i]}^2 * {columns_to_create_new_features[j]}'] = df[columns_to_create_new_features[i]]**2 * df[columns_to_create_new_features[j]]\n"
      ],
      "metadata": {
        "id": "JEVVxdg3PXQI"
      },
      "execution_count": 33,
      "outputs": []
    },
    {
      "cell_type": "markdown",
      "source": [
        "На этом добавление признаков и обработка закончена, переходим к гипотезам."
      ],
      "metadata": {
        "id": "DTQy1N3NAfjb"
      }
    },
    {
      "cell_type": "code",
      "source": [
        "df.to_csv('df.csv', encoding='utf-8')"
      ],
      "metadata": {
        "id": "fJX_3aJeIvNe"
      },
      "execution_count": 34,
      "outputs": []
    }
  ]
}